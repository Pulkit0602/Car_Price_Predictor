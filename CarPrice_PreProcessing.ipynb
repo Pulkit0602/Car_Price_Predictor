{
 "cells": [
  {
   "cell_type": "markdown",
   "id": "374a61fa",
   "metadata": {},
   "source": [
    "### IMPORTANT FEATURES :\n",
    "1. Implementation of sklearn pipeline\n",
    "2. Use of sklearn column transfer\n",
    "3. Implemntation of DT , RFR , LR\n"
   ]
  },
  {
   "cell_type": "code",
   "execution_count": 143,
   "id": "7007640b",
   "metadata": {},
   "outputs": [],
   "source": [
    "import pandas as pd\n",
    "import numpy as np\n",
    "import matplotlib.pyplot as plt\n",
    "import seaborn as sns"
   ]
  },
  {
   "cell_type": "code",
   "execution_count": 144,
   "id": "e22ab0ef",
   "metadata": {},
   "outputs": [],
   "source": [
    "df = pd.read_csv(\"Quikr_car.csv\")"
   ]
  },
  {
   "cell_type": "code",
   "execution_count": 145,
   "id": "3737f666",
   "metadata": {},
   "outputs": [
    {
     "data": {
      "text/plain": [
       "Index(['Unnamed: 0', 'Name', 'Label', 'Location', 'Price', 'Kms_driven',\n",
       "       'Fuel_type', 'Owner', 'Year', 'Company'],\n",
       "      dtype='object')"
      ]
     },
     "execution_count": 145,
     "metadata": {},
     "output_type": "execute_result"
    }
   ],
   "source": [
    "df.columns"
   ]
  },
  {
   "cell_type": "code",
   "execution_count": 146,
   "id": "88d21881",
   "metadata": {},
   "outputs": [
    {
     "data": {
      "text/html": [
       "<div>\n",
       "<style scoped>\n",
       "    .dataframe tbody tr th:only-of-type {\n",
       "        vertical-align: middle;\n",
       "    }\n",
       "\n",
       "    .dataframe tbody tr th {\n",
       "        vertical-align: top;\n",
       "    }\n",
       "\n",
       "    .dataframe thead th {\n",
       "        text-align: right;\n",
       "    }\n",
       "</style>\n",
       "<table border=\"1\" class=\"dataframe\">\n",
       "  <thead>\n",
       "    <tr style=\"text-align: right;\">\n",
       "      <th></th>\n",
       "      <th>Unnamed: 0</th>\n",
       "      <th>Name</th>\n",
       "      <th>Label</th>\n",
       "      <th>Location</th>\n",
       "      <th>Price</th>\n",
       "      <th>Kms_driven</th>\n",
       "      <th>Fuel_type</th>\n",
       "      <th>Owner</th>\n",
       "      <th>Year</th>\n",
       "      <th>Company</th>\n",
       "    </tr>\n",
       "  </thead>\n",
       "  <tbody>\n",
       "    <tr>\n",
       "      <th>0</th>\n",
       "      <td>0</td>\n",
       "      <td>Ford Figo Duratec Petrol EXI 1.2 - 2015</td>\n",
       "      <td>PLATINUM</td>\n",
       "      <td>Bangalore</td>\n",
       "      <td>₹3,80,000</td>\n",
       "      <td>35,056 kms</td>\n",
       "      <td>Petrol</td>\n",
       "      <td>NaN</td>\n",
       "      <td>2015</td>\n",
       "      <td>Ford</td>\n",
       "    </tr>\n",
       "    <tr>\n",
       "      <th>1</th>\n",
       "      <td>1</td>\n",
       "      <td>Maruti Suzuki Wagon R VXI BS IV - 2016</td>\n",
       "      <td>PLATINUM</td>\n",
       "      <td>Bangalore</td>\n",
       "      <td>₹4,65,000</td>\n",
       "      <td>44,000 kms</td>\n",
       "      <td>Petrol</td>\n",
       "      <td>NaN</td>\n",
       "      <td>2016</td>\n",
       "      <td>Maruti</td>\n",
       "    </tr>\n",
       "    <tr>\n",
       "      <th>2</th>\n",
       "      <td>2</td>\n",
       "      <td>Hyundai Creta 1.6 SX PLUS AUTO PETROL - 2018</td>\n",
       "      <td>PLATINUM</td>\n",
       "      <td>Bangalore</td>\n",
       "      <td>₹13,50,000</td>\n",
       "      <td>42,917 kms</td>\n",
       "      <td>Petrol</td>\n",
       "      <td>NaN</td>\n",
       "      <td>2018</td>\n",
       "      <td>Hyundai</td>\n",
       "    </tr>\n",
       "    <tr>\n",
       "      <th>3</th>\n",
       "      <td>3</td>\n",
       "      <td>Hyundai Venue - 2019</td>\n",
       "      <td>PLATINUM</td>\n",
       "      <td>Chennai</td>\n",
       "      <td>₹10,19,699</td>\n",
       "      <td>16,112 kms</td>\n",
       "      <td>Petrol</td>\n",
       "      <td>2nd Owner</td>\n",
       "      <td>2019</td>\n",
       "      <td>Hyundai</td>\n",
       "    </tr>\n",
       "    <tr>\n",
       "      <th>4</th>\n",
       "      <td>4</td>\n",
       "      <td>Honda Jazz - 2017</td>\n",
       "      <td>PLATINUM</td>\n",
       "      <td>Pune</td>\n",
       "      <td>₹7,13,499</td>\n",
       "      <td>30,988 kms</td>\n",
       "      <td>Petrol</td>\n",
       "      <td>2nd Owner</td>\n",
       "      <td>2017</td>\n",
       "      <td>Honda</td>\n",
       "    </tr>\n",
       "  </tbody>\n",
       "</table>\n",
       "</div>"
      ],
      "text/plain": [
       "   Unnamed: 0                                          Name     Label  \\\n",
       "0           0       Ford Figo Duratec Petrol EXI 1.2 - 2015  PLATINUM   \n",
       "1           1        Maruti Suzuki Wagon R VXI BS IV - 2016  PLATINUM   \n",
       "2           2  Hyundai Creta 1.6 SX PLUS AUTO PETROL - 2018  PLATINUM   \n",
       "3           3                          Hyundai Venue - 2019  PLATINUM   \n",
       "4           4                             Honda Jazz - 2017  PLATINUM   \n",
       "\n",
       "    Location       Price   Kms_driven Fuel_type       Owner  Year  Company  \n",
       "0  Bangalore   ₹3,80,000  35,056 kms     Petrol         NaN  2015     Ford  \n",
       "1  Bangalore   ₹4,65,000  44,000 kms     Petrol         NaN  2016   Maruti  \n",
       "2  Bangalore  ₹13,50,000  42,917 kms     Petrol         NaN  2018  Hyundai  \n",
       "3    Chennai  ₹10,19,699  16,112 kms    Petrol    2nd Owner  2019  Hyundai  \n",
       "4       Pune   ₹7,13,499  30,988 kms    Petrol    2nd Owner  2017    Honda  "
      ]
     },
     "execution_count": 146,
     "metadata": {},
     "output_type": "execute_result"
    }
   ],
   "source": [
    "df.head()"
   ]
  },
  {
   "cell_type": "code",
   "execution_count": 147,
   "id": "a7c46c6b",
   "metadata": {},
   "outputs": [],
   "source": [
    "#Dropping Unnamed: 0 and Labels because label is given by the quicker it is not provided by the user:\n",
    "df.drop([\"Unnamed: 0\" , \"Label\"] ,axis = \"columns\" , inplace = True)"
   ]
  },
  {
   "cell_type": "code",
   "execution_count": 148,
   "id": "717a149c",
   "metadata": {},
   "outputs": [
    {
     "data": {
      "text/html": [
       "<div>\n",
       "<style scoped>\n",
       "    .dataframe tbody tr th:only-of-type {\n",
       "        vertical-align: middle;\n",
       "    }\n",
       "\n",
       "    .dataframe tbody tr th {\n",
       "        vertical-align: top;\n",
       "    }\n",
       "\n",
       "    .dataframe thead th {\n",
       "        text-align: right;\n",
       "    }\n",
       "</style>\n",
       "<table border=\"1\" class=\"dataframe\">\n",
       "  <thead>\n",
       "    <tr style=\"text-align: right;\">\n",
       "      <th></th>\n",
       "      <th>Name</th>\n",
       "      <th>Location</th>\n",
       "      <th>Price</th>\n",
       "      <th>Kms_driven</th>\n",
       "      <th>Fuel_type</th>\n",
       "      <th>Owner</th>\n",
       "      <th>Year</th>\n",
       "      <th>Company</th>\n",
       "    </tr>\n",
       "  </thead>\n",
       "  <tbody>\n",
       "    <tr>\n",
       "      <th>0</th>\n",
       "      <td>Ford Figo Duratec Petrol EXI 1.2 - 2015</td>\n",
       "      <td>Bangalore</td>\n",
       "      <td>₹3,80,000</td>\n",
       "      <td>35,056 kms</td>\n",
       "      <td>Petrol</td>\n",
       "      <td>NaN</td>\n",
       "      <td>2015</td>\n",
       "      <td>Ford</td>\n",
       "    </tr>\n",
       "    <tr>\n",
       "      <th>1</th>\n",
       "      <td>Maruti Suzuki Wagon R VXI BS IV - 2016</td>\n",
       "      <td>Bangalore</td>\n",
       "      <td>₹4,65,000</td>\n",
       "      <td>44,000 kms</td>\n",
       "      <td>Petrol</td>\n",
       "      <td>NaN</td>\n",
       "      <td>2016</td>\n",
       "      <td>Maruti</td>\n",
       "    </tr>\n",
       "    <tr>\n",
       "      <th>2</th>\n",
       "      <td>Hyundai Creta 1.6 SX PLUS AUTO PETROL - 2018</td>\n",
       "      <td>Bangalore</td>\n",
       "      <td>₹13,50,000</td>\n",
       "      <td>42,917 kms</td>\n",
       "      <td>Petrol</td>\n",
       "      <td>NaN</td>\n",
       "      <td>2018</td>\n",
       "      <td>Hyundai</td>\n",
       "    </tr>\n",
       "    <tr>\n",
       "      <th>3</th>\n",
       "      <td>Hyundai Venue - 2019</td>\n",
       "      <td>Chennai</td>\n",
       "      <td>₹10,19,699</td>\n",
       "      <td>16,112 kms</td>\n",
       "      <td>Petrol</td>\n",
       "      <td>2nd Owner</td>\n",
       "      <td>2019</td>\n",
       "      <td>Hyundai</td>\n",
       "    </tr>\n",
       "    <tr>\n",
       "      <th>4</th>\n",
       "      <td>Honda Jazz - 2017</td>\n",
       "      <td>Pune</td>\n",
       "      <td>₹7,13,499</td>\n",
       "      <td>30,988 kms</td>\n",
       "      <td>Petrol</td>\n",
       "      <td>2nd Owner</td>\n",
       "      <td>2017</td>\n",
       "      <td>Honda</td>\n",
       "    </tr>\n",
       "  </tbody>\n",
       "</table>\n",
       "</div>"
      ],
      "text/plain": [
       "                                           Name   Location       Price  \\\n",
       "0       Ford Figo Duratec Petrol EXI 1.2 - 2015  Bangalore   ₹3,80,000   \n",
       "1        Maruti Suzuki Wagon R VXI BS IV - 2016  Bangalore   ₹4,65,000   \n",
       "2  Hyundai Creta 1.6 SX PLUS AUTO PETROL - 2018  Bangalore  ₹13,50,000   \n",
       "3                          Hyundai Venue - 2019    Chennai  ₹10,19,699   \n",
       "4                             Honda Jazz - 2017       Pune   ₹7,13,499   \n",
       "\n",
       "    Kms_driven Fuel_type       Owner  Year  Company  \n",
       "0  35,056 kms     Petrol         NaN  2015     Ford  \n",
       "1  44,000 kms     Petrol         NaN  2016   Maruti  \n",
       "2  42,917 kms     Petrol         NaN  2018  Hyundai  \n",
       "3  16,112 kms    Petrol    2nd Owner  2019  Hyundai  \n",
       "4  30,988 kms    Petrol    2nd Owner  2017    Honda  "
      ]
     },
     "execution_count": 148,
     "metadata": {},
     "output_type": "execute_result"
    }
   ],
   "source": [
    "df.head()"
   ]
  },
  {
   "cell_type": "code",
   "execution_count": 149,
   "id": "5c98a2ba",
   "metadata": {},
   "outputs": [
    {
     "name": "stdout",
     "output_type": "stream",
     "text": [
      "<class 'pandas.core.frame.DataFrame'>\n",
      "RangeIndex: 1032 entries, 0 to 1031\n",
      "Data columns (total 8 columns):\n",
      " #   Column      Non-Null Count  Dtype \n",
      "---  ------      --------------  ----- \n",
      " 0   Name        1032 non-null   object\n",
      " 1   Location    1030 non-null   object\n",
      " 2   Price       1032 non-null   object\n",
      " 3   Kms_driven  1032 non-null   object\n",
      " 4   Fuel_type   1032 non-null   object\n",
      " 5   Owner       740 non-null    object\n",
      " 6   Year        1032 non-null   int64 \n",
      " 7   Company     1032 non-null   object\n",
      "dtypes: int64(1), object(7)\n",
      "memory usage: 64.6+ KB\n"
     ]
    }
   ],
   "source": [
    "df.info()"
   ]
  },
  {
   "cell_type": "code",
   "execution_count": 150,
   "id": "db4de6d4",
   "metadata": {},
   "outputs": [
    {
     "data": {
      "text/plain": [
       "Name            0\n",
       "Location        2\n",
       "Price           0\n",
       "Kms_driven      0\n",
       "Fuel_type       0\n",
       "Owner         292\n",
       "Year            0\n",
       "Company         0\n",
       "dtype: int64"
      ]
     },
     "execution_count": 150,
     "metadata": {},
     "output_type": "execute_result"
    }
   ],
   "source": [
    "df.isnull().sum()"
   ]
  },
  {
   "cell_type": "code",
   "execution_count": 151,
   "id": "5766dcc1",
   "metadata": {},
   "outputs": [],
   "source": [
    "# Alot of is null value is case of owner and we can't even find the resaon behind it so better to drop that\n",
    "#Dropping Owner\n",
    "df.drop([\"Owner\"] ,axis = \"columns\" , inplace = True)"
   ]
  },
  {
   "cell_type": "code",
   "execution_count": 152,
   "id": "d6ab037d",
   "metadata": {},
   "outputs": [
    {
     "name": "stdout",
     "output_type": "stream",
     "text": [
      "<class 'pandas.core.frame.DataFrame'>\n",
      "RangeIndex: 1032 entries, 0 to 1031\n",
      "Data columns (total 7 columns):\n",
      " #   Column      Non-Null Count  Dtype \n",
      "---  ------      --------------  ----- \n",
      " 0   Name        1032 non-null   object\n",
      " 1   Location    1030 non-null   object\n",
      " 2   Price       1032 non-null   object\n",
      " 3   Kms_driven  1032 non-null   object\n",
      " 4   Fuel_type   1032 non-null   object\n",
      " 5   Year        1032 non-null   int64 \n",
      " 6   Company     1032 non-null   object\n",
      "dtypes: int64(1), object(6)\n",
      "memory usage: 56.6+ KB\n"
     ]
    }
   ],
   "source": [
    "df.info()"
   ]
  },
  {
   "cell_type": "code",
   "execution_count": 153,
   "id": "c24b9f40",
   "metadata": {},
   "outputs": [],
   "source": [
    "#Dropping of the columns is done \n",
    "#Now task is to do data cleanig so that EDA process can be initiated \n",
    "#TASK\n",
    "    #1.Convert Price to int64\n",
    "    #2.Convert kms to int64\n",
    "\n"
   ]
  },
  {
   "cell_type": "markdown",
   "id": "1008ce1b",
   "metadata": {},
   "source": [
    "## HANDLING Kms_Driven"
   ]
  },
  {
   "cell_type": "code",
   "execution_count": 154,
   "id": "603c2831",
   "metadata": {},
   "outputs": [],
   "source": [
    "df[\"Kms_driven\"] = [x.replace(\",\" , \"\") for x in df[\"Kms_driven\"]]\n",
    "df[\"Kms_driven\"] = [x.replace(\"kms\" , \"\") for x in df[\"Kms_driven\"]]\n"
   ]
  },
  {
   "cell_type": "code",
   "execution_count": 155,
   "id": "cf212604",
   "metadata": {},
   "outputs": [
    {
     "data": {
      "text/plain": [
       "0       35056  \n",
       "1       44000  \n",
       "2       42917  \n",
       "3       16112  \n",
       "4       30988  \n",
       "         ...   \n",
       "1027    65000  \n",
       "1028    60000  \n",
       "1029    31000  \n",
       "1030    31000  \n",
       "1031    31000  \n",
       "Name: Kms_driven, Length: 1032, dtype: object"
      ]
     },
     "execution_count": 155,
     "metadata": {},
     "output_type": "execute_result"
    }
   ],
   "source": [
    "df[\"Kms_driven\"]\n",
    "\n"
   ]
  },
  {
   "cell_type": "code",
   "execution_count": 156,
   "id": "ac4b0c78",
   "metadata": {},
   "outputs": [],
   "source": [
    "df[\"Kms_driven\"] = df[\"Kms_driven\"].astype('int64')"
   ]
  },
  {
   "cell_type": "markdown",
   "id": "18d09aa3",
   "metadata": {},
   "source": [
    "## HANDLING Price\n",
    "\n"
   ]
  },
  {
   "cell_type": "code",
   "execution_count": 157,
   "id": "5136d55d",
   "metadata": {
    "scrolled": false
   },
   "outputs": [],
   "source": [
    "df[\"Price\"] = [x.replace(\",\" , \"\") for x in df[\"Price\"]]\n",
    "df[\"Price\"] = [x.replace(\"₹\" , \"\") for x in df[\"Price\"]]\n"
   ]
  },
  {
   "cell_type": "code",
   "execution_count": 158,
   "id": "ba922c5d",
   "metadata": {},
   "outputs": [],
   "source": [
    "df = df[df[\"Price\"].str.isnumeric() == True]"
   ]
  },
  {
   "cell_type": "code",
   "execution_count": 159,
   "id": "9de9b454",
   "metadata": {},
   "outputs": [],
   "source": [
    "df[\"Price\"] = df[\"Price\"].astype('int64')"
   ]
  },
  {
   "cell_type": "code",
   "execution_count": 160,
   "id": "88a841d7",
   "metadata": {},
   "outputs": [
    {
     "data": {
      "text/plain": [
       "(1026, 7)"
      ]
     },
     "execution_count": 160,
     "metadata": {},
     "output_type": "execute_result"
    }
   ],
   "source": [
    "df.shape"
   ]
  },
  {
   "cell_type": "code",
   "execution_count": 161,
   "id": "e66159c7",
   "metadata": {},
   "outputs": [
    {
     "name": "stdout",
     "output_type": "stream",
     "text": [
      "<class 'pandas.core.frame.DataFrame'>\n",
      "Int64Index: 1026 entries, 0 to 1031\n",
      "Data columns (total 7 columns):\n",
      " #   Column      Non-Null Count  Dtype \n",
      "---  ------      --------------  ----- \n",
      " 0   Name        1026 non-null   object\n",
      " 1   Location    1024 non-null   object\n",
      " 2   Price       1026 non-null   int64 \n",
      " 3   Kms_driven  1026 non-null   int64 \n",
      " 4   Fuel_type   1026 non-null   object\n",
      " 5   Year        1026 non-null   int64 \n",
      " 6   Company     1026 non-null   object\n",
      "dtypes: int64(3), object(4)\n",
      "memory usage: 64.1+ KB\n"
     ]
    }
   ],
   "source": [
    "#ANALYSING LEFT OVER COLUMNS \n",
    "df.info()"
   ]
  },
  {
   "cell_type": "markdown",
   "id": "d748cbad",
   "metadata": {},
   "source": [
    "## HANDLING LOCATION NULL VALUES"
   ]
  },
  {
   "cell_type": "code",
   "execution_count": 162,
   "id": "58501771",
   "metadata": {},
   "outputs": [
    {
     "data": {
      "text/html": [
       "<div>\n",
       "<style scoped>\n",
       "    .dataframe tbody tr th:only-of-type {\n",
       "        vertical-align: middle;\n",
       "    }\n",
       "\n",
       "    .dataframe tbody tr th {\n",
       "        vertical-align: top;\n",
       "    }\n",
       "\n",
       "    .dataframe thead th {\n",
       "        text-align: right;\n",
       "    }\n",
       "</style>\n",
       "<table border=\"1\" class=\"dataframe\">\n",
       "  <thead>\n",
       "    <tr style=\"text-align: right;\">\n",
       "      <th></th>\n",
       "      <th>Name</th>\n",
       "      <th>Location</th>\n",
       "      <th>Price</th>\n",
       "      <th>Kms_driven</th>\n",
       "      <th>Fuel_type</th>\n",
       "      <th>Year</th>\n",
       "      <th>Company</th>\n",
       "    </tr>\n",
       "  </thead>\n",
       "  <tbody>\n",
       "    <tr>\n",
       "      <th>283</th>\n",
       "      <td>Maruti Suzuki Maruti 800 Std BSII - 2005</td>\n",
       "      <td>NaN</td>\n",
       "      <td>65000</td>\n",
       "      <td>108252</td>\n",
       "      <td>Petrol</td>\n",
       "      <td>2005</td>\n",
       "      <td>Maruti</td>\n",
       "    </tr>\n",
       "    <tr>\n",
       "      <th>887</th>\n",
       "      <td>Honda City ZX CVT Petrol - 2018</td>\n",
       "      <td>NaN</td>\n",
       "      <td>1069999</td>\n",
       "      <td>54000</td>\n",
       "      <td>CNG</td>\n",
       "      <td>2018</td>\n",
       "      <td>Honda</td>\n",
       "    </tr>\n",
       "  </tbody>\n",
       "</table>\n",
       "</div>"
      ],
      "text/plain": [
       "                                         Name Location    Price  Kms_driven  \\\n",
       "283  Maruti Suzuki Maruti 800 Std BSII - 2005      NaN    65000      108252   \n",
       "887           Honda City ZX CVT Petrol - 2018      NaN  1069999       54000   \n",
       "\n",
       "    Fuel_type  Year Company  \n",
       "283    Petrol  2005  Maruti  \n",
       "887      CNG   2018   Honda  "
      ]
     },
     "execution_count": 162,
     "metadata": {},
     "output_type": "execute_result"
    }
   ],
   "source": [
    "df[df[\"Location\"].isnull() == True]"
   ]
  },
  {
   "cell_type": "code",
   "execution_count": 163,
   "id": "4873e097",
   "metadata": {},
   "outputs": [
    {
     "data": {
      "text/plain": [
       "40"
      ]
     },
     "execution_count": 163,
     "metadata": {},
     "output_type": "execute_result"
    }
   ],
   "source": [
    "len(df[\"Location\"].unique())"
   ]
  },
  {
   "cell_type": "code",
   "execution_count": 164,
   "id": "2ecd7cb8",
   "metadata": {},
   "outputs": [
    {
     "data": {
      "text/plain": [
       "<AxesSubplot:>"
      ]
     },
     "execution_count": 164,
     "metadata": {},
     "output_type": "execute_result"
    },
    {
     "data": {
      "image/png": "[encoded data removed]",
      "text/plain": [
       "<Figure size 432x288 with 1 Axes>"
      ]
     },
     "metadata": {
      "needs_background": "light"
     },
     "output_type": "display_data"
    }
   ],
   "source": [
    "df[\"Location\"].value_counts().plot(kind='bar')"
   ]
  },
  {
   "cell_type": "code",
   "execution_count": 165,
   "id": "56b36582",
   "metadata": {},
   "outputs": [],
   "source": [
    "df[\"Location\"] = df[\"Location\"].fillna(\"Pune\")"
   ]
  },
  {
   "cell_type": "code",
   "execution_count": 166,
   "id": "f54cf3b0",
   "metadata": {},
   "outputs": [
    {
     "data": {
      "text/plain": [
       "Pune                  325\n",
       "Chennai               312\n",
       "Bangalore             256\n",
       "Mumbai                 19\n",
       "Kolkata                19\n",
       "Madurai                12\n",
       "Hyderabad              11\n",
       "Jaipur                 10\n",
       "Delhi                  10\n",
       "Trichy                  8\n",
       "Nagpur                  5\n",
       "Ahmedabad               5\n",
       "NaviMumbai              3\n",
       "Lucknow                 2\n",
       "Kozhikode               2\n",
       "Bhubaneswar             2\n",
       "Pondicherry             2\n",
       "Surat                   2\n",
       "GirSomnath              1\n",
       "Anand                   1\n",
       "Uttarpara               1\n",
       "Muzaffarnagar           1\n",
       "Kochi                   1\n",
       "Dhanbad                 1\n",
       "Mahasamund              1\n",
       "Bilaspur                1\n",
       "Dwarka                  1\n",
       "Udaipur                 1\n",
       "Thane                   1\n",
       "Kurnool                 1\n",
       "Gurgaon                 1\n",
       "BolpurSantiniketan      1\n",
       "Chandigarh              1\n",
       "Malappuram              1\n",
       "Nanded                  1\n",
       "Coimbatore              1\n",
       "Kanchipuram             1\n",
       "Faridabad               1\n",
       "Jagdalpur               1\n",
       "Name: Location, dtype: int64"
      ]
     },
     "execution_count": 166,
     "metadata": {},
     "output_type": "execute_result"
    }
   ],
   "source": [
    "df[\"Location\"].value_counts()"
   ]
  },
  {
   "cell_type": "code",
   "execution_count": 167,
   "id": "a8f9a24e",
   "metadata": {},
   "outputs": [],
   "source": [
    "#Note:\n",
    "# 1. Need To handle now the column with model name \n",
    "# 2. Understanding correlation between location and price is needed"
   ]
  },
  {
   "cell_type": "markdown",
   "id": "7d36cd6f",
   "metadata": {},
   "source": [
    "## HANDLING NAME COLUMN"
   ]
  },
  {
   "cell_type": "code",
   "execution_count": 168,
   "id": "381719bf",
   "metadata": {},
   "outputs": [],
   "source": [
    "city_state = {\n",
    "    'Bangalore':'Karnataka',\n",
    "    'Chennai':'Tamil Nadu',\n",
    "    'Pune':'Maharashtra',\n",
    "    'Hyderabad':'Andhra Pradesh',\n",
    "    'Faridabad':'Haryana',\n",
    "    'Kanchipuram':'Tamil Nadu',\n",
    "    'Kozhikode':'Kerala',\n",
    "    'Kolkata':'West Bengal',\n",
    "    'Mumbai':'Maharashtra',\n",
    "    'Lucknow':'Uttar Pradesh',\n",
    "    'Coimbatore':'Tamil Nadu',\n",
    "    'Delhi':'NCT of Delhi',\n",
    "    'Nanded':'Maharashtra',\n",
    "    'Malappuram':'Kerala',\n",
    "    'Chandigarh':'Haryana',\n",
    "    'Madurai':'Tamil Nadu',\n",
    "    'BolpurSantiniketan':'West Bengal',\n",
    "    'Bhubaneswar':'Odisha',\n",
    "    'Pondicherry':'Puducherry',\n",
    "    'Udaipur':'Tripura',\n",
    "    'NaviMumbai':'Maharashtra',\n",
    "    'Gurgaon':'Haryana',\n",
    "    'Kurnool':'Andhra Pradesh',\n",
    "    'Surat':'Gujarat',\n",
    "    'Ahmedabad':'Gujarat',\n",
    "    'Jaipur':'Rajasthan',\n",
    "    'Thane':'Maharashtra',\n",
    "    'Nagpur':'Maharashtra',\n",
    "    'Dwarka':'Gujarat',\n",
    "    'GirSomnath':'Gujarat',\n",
    "    'Anand':'Gujarat',\n",
    "    'Muzaffarnagar':'Bihar',\n",
    "    'Trichy':'Tamil Nadu',\n",
    "    'Uttarpara':'West Bengal',\n",
    "    'Kochi':'Kerala',\n",
    "    'Dhanbad':'Jharkhand',\n",
    "    'Mahasamund':'Chhattisgarh',\n",
    "    'Bilaspur':'Chhattisgarh',\n",
    "    'Jagdalpur':'Chhattisgarh',\n",
    "}"
   ]
  },
  {
   "cell_type": "code",
   "execution_count": 169,
   "id": "da50596b",
   "metadata": {},
   "outputs": [],
   "source": [
    "state= []\n",
    "for i in df[\"Location\"]:\n",
    "    state.append(city_state[i])"
   ]
  },
  {
   "cell_type": "code",
   "execution_count": 170,
   "id": "3e529a2e",
   "metadata": {},
   "outputs": [
    {
     "data": {
      "text/plain": [
       "1026"
      ]
     },
     "execution_count": 170,
     "metadata": {},
     "output_type": "execute_result"
    }
   ],
   "source": [
    "len(state)"
   ]
  },
  {
   "cell_type": "code",
   "execution_count": 171,
   "id": "4422fdb5",
   "metadata": {},
   "outputs": [],
   "source": [
    "df[\"State\"] = state"
   ]
  },
  {
   "cell_type": "code",
   "execution_count": 172,
   "id": "d1806bd7",
   "metadata": {},
   "outputs": [
    {
     "name": "stdout",
     "output_type": "stream",
     "text": [
      "<class 'pandas.core.frame.DataFrame'>\n",
      "Int64Index: 1026 entries, 0 to 1031\n",
      "Data columns (total 8 columns):\n",
      " #   Column      Non-Null Count  Dtype \n",
      "---  ------      --------------  ----- \n",
      " 0   Name        1026 non-null   object\n",
      " 1   Location    1026 non-null   object\n",
      " 2   Price       1026 non-null   int64 \n",
      " 3   Kms_driven  1026 non-null   int64 \n",
      " 4   Fuel_type   1026 non-null   object\n",
      " 5   Year        1026 non-null   int64 \n",
      " 6   Company     1026 non-null   object\n",
      " 7   State       1026 non-null   object\n",
      "dtypes: int64(3), object(5)\n",
      "memory usage: 72.1+ KB\n"
     ]
    }
   ],
   "source": [
    "df.info()"
   ]
  },
  {
   "cell_type": "code",
   "execution_count": 173,
   "id": "93169971",
   "metadata": {},
   "outputs": [
    {
     "data": {
      "text/html": [
       "<div>\n",
       "<style scoped>\n",
       "    .dataframe tbody tr th:only-of-type {\n",
       "        vertical-align: middle;\n",
       "    }\n",
       "\n",
       "    .dataframe tbody tr th {\n",
       "        vertical-align: top;\n",
       "    }\n",
       "\n",
       "    .dataframe thead th {\n",
       "        text-align: right;\n",
       "    }\n",
       "</style>\n",
       "<table border=\"1\" class=\"dataframe\">\n",
       "  <thead>\n",
       "    <tr style=\"text-align: right;\">\n",
       "      <th></th>\n",
       "      <th>Name</th>\n",
       "      <th>Location</th>\n",
       "      <th>Price</th>\n",
       "      <th>Kms_driven</th>\n",
       "      <th>Fuel_type</th>\n",
       "      <th>Year</th>\n",
       "      <th>Company</th>\n",
       "      <th>State</th>\n",
       "    </tr>\n",
       "  </thead>\n",
       "  <tbody>\n",
       "    <tr>\n",
       "      <th>0</th>\n",
       "      <td>Ford Figo Duratec Petrol EXI 1.2 - 2015</td>\n",
       "      <td>Bangalore</td>\n",
       "      <td>380000</td>\n",
       "      <td>35056</td>\n",
       "      <td>Petrol</td>\n",
       "      <td>2015</td>\n",
       "      <td>Ford</td>\n",
       "      <td>Karnataka</td>\n",
       "    </tr>\n",
       "    <tr>\n",
       "      <th>1</th>\n",
       "      <td>Maruti Suzuki Wagon R VXI BS IV - 2016</td>\n",
       "      <td>Bangalore</td>\n",
       "      <td>465000</td>\n",
       "      <td>44000</td>\n",
       "      <td>Petrol</td>\n",
       "      <td>2016</td>\n",
       "      <td>Maruti</td>\n",
       "      <td>Karnataka</td>\n",
       "    </tr>\n",
       "    <tr>\n",
       "      <th>2</th>\n",
       "      <td>Hyundai Creta 1.6 SX PLUS AUTO PETROL - 2018</td>\n",
       "      <td>Bangalore</td>\n",
       "      <td>1350000</td>\n",
       "      <td>42917</td>\n",
       "      <td>Petrol</td>\n",
       "      <td>2018</td>\n",
       "      <td>Hyundai</td>\n",
       "      <td>Karnataka</td>\n",
       "    </tr>\n",
       "    <tr>\n",
       "      <th>3</th>\n",
       "      <td>Hyundai Venue - 2019</td>\n",
       "      <td>Chennai</td>\n",
       "      <td>1019699</td>\n",
       "      <td>16112</td>\n",
       "      <td>Petrol</td>\n",
       "      <td>2019</td>\n",
       "      <td>Hyundai</td>\n",
       "      <td>Tamil Nadu</td>\n",
       "    </tr>\n",
       "    <tr>\n",
       "      <th>4</th>\n",
       "      <td>Honda Jazz - 2017</td>\n",
       "      <td>Pune</td>\n",
       "      <td>713499</td>\n",
       "      <td>30988</td>\n",
       "      <td>Petrol</td>\n",
       "      <td>2017</td>\n",
       "      <td>Honda</td>\n",
       "      <td>Maharashtra</td>\n",
       "    </tr>\n",
       "  </tbody>\n",
       "</table>\n",
       "</div>"
      ],
      "text/plain": [
       "                                           Name   Location    Price  \\\n",
       "0       Ford Figo Duratec Petrol EXI 1.2 - 2015  Bangalore   380000   \n",
       "1        Maruti Suzuki Wagon R VXI BS IV - 2016  Bangalore   465000   \n",
       "2  Hyundai Creta 1.6 SX PLUS AUTO PETROL - 2018  Bangalore  1350000   \n",
       "3                          Hyundai Venue - 2019    Chennai  1019699   \n",
       "4                             Honda Jazz - 2017       Pune   713499   \n",
       "\n",
       "   Kms_driven Fuel_type  Year  Company        State  \n",
       "0       35056    Petrol  2015     Ford    Karnataka  \n",
       "1       44000    Petrol  2016   Maruti    Karnataka  \n",
       "2       42917    Petrol  2018  Hyundai    Karnataka  \n",
       "3       16112   Petrol   2019  Hyundai   Tamil Nadu  \n",
       "4       30988   Petrol   2017    Honda  Maharashtra  "
      ]
     },
     "execution_count": 173,
     "metadata": {},
     "output_type": "execute_result"
    }
   ],
   "source": [
    "df.head()"
   ]
  },
  {
   "cell_type": "code",
   "execution_count": 174,
   "id": "47fa702d",
   "metadata": {},
   "outputs": [],
   "source": [
    "df[\"Name\"] = [\" \".join(x.split(\" \")[0:3]) for x in df[\"Name\"]]"
   ]
  },
  {
   "cell_type": "code",
   "execution_count": 175,
   "id": "88463b13",
   "metadata": {},
   "outputs": [
    {
     "data": {
      "text/plain": [
       "230"
      ]
     },
     "execution_count": 175,
     "metadata": {},
     "output_type": "execute_result"
    }
   ],
   "source": [
    "len(df[\"Name\"].unique())"
   ]
  },
  {
   "cell_type": "code",
   "execution_count": 176,
   "id": "728b09be",
   "metadata": {
    "scrolled": true
   },
   "outputs": [
    {
     "data": {
      "text/html": [
       "<div>\n",
       "<style scoped>\n",
       "    .dataframe tbody tr th:only-of-type {\n",
       "        vertical-align: middle;\n",
       "    }\n",
       "\n",
       "    .dataframe tbody tr th {\n",
       "        vertical-align: top;\n",
       "    }\n",
       "\n",
       "    .dataframe thead th {\n",
       "        text-align: right;\n",
       "    }\n",
       "</style>\n",
       "<table border=\"1\" class=\"dataframe\">\n",
       "  <thead>\n",
       "    <tr style=\"text-align: right;\">\n",
       "      <th></th>\n",
       "      <th>Name</th>\n",
       "      <th>Location</th>\n",
       "      <th>Price</th>\n",
       "      <th>Kms_driven</th>\n",
       "      <th>Fuel_type</th>\n",
       "      <th>Year</th>\n",
       "      <th>Company</th>\n",
       "      <th>State</th>\n",
       "    </tr>\n",
       "  </thead>\n",
       "  <tbody>\n",
       "    <tr>\n",
       "      <th>14</th>\n",
       "      <td>Maruti Suzuki Alto</td>\n",
       "      <td>Pune</td>\n",
       "      <td>399999</td>\n",
       "      <td>25730</td>\n",
       "      <td>Petrol</td>\n",
       "      <td>2017</td>\n",
       "      <td>Maruti</td>\n",
       "      <td>Maharashtra</td>\n",
       "    </tr>\n",
       "    <tr>\n",
       "      <th>408</th>\n",
       "      <td>Maruti Suzuki Alto</td>\n",
       "      <td>Bangalore</td>\n",
       "      <td>462399</td>\n",
       "      <td>15032</td>\n",
       "      <td>Petrol</td>\n",
       "      <td>2017</td>\n",
       "      <td>Maruti</td>\n",
       "      <td>Karnataka</td>\n",
       "    </tr>\n",
       "    <tr>\n",
       "      <th>409</th>\n",
       "      <td>Maruti Suzuki Alto</td>\n",
       "      <td>Pune</td>\n",
       "      <td>319999</td>\n",
       "      <td>15575</td>\n",
       "      <td>Petrol</td>\n",
       "      <td>2017</td>\n",
       "      <td>Maruti</td>\n",
       "      <td>Maharashtra</td>\n",
       "    </tr>\n",
       "    <tr>\n",
       "      <th>711</th>\n",
       "      <td>Maruti Suzuki Alto</td>\n",
       "      <td>Bangalore</td>\n",
       "      <td>333699</td>\n",
       "      <td>25256</td>\n",
       "      <td>Petrol</td>\n",
       "      <td>2017</td>\n",
       "      <td>Maruti</td>\n",
       "      <td>Karnataka</td>\n",
       "    </tr>\n",
       "    <tr>\n",
       "      <th>843</th>\n",
       "      <td>Maruti Suzuki Alto</td>\n",
       "      <td>Pune</td>\n",
       "      <td>313399</td>\n",
       "      <td>22244</td>\n",
       "      <td>Petrol</td>\n",
       "      <td>2017</td>\n",
       "      <td>Maruti</td>\n",
       "      <td>Maharashtra</td>\n",
       "    </tr>\n",
       "    <tr>\n",
       "      <th>990</th>\n",
       "      <td>Maruti Suzuki Alto</td>\n",
       "      <td>Pune</td>\n",
       "      <td>333699</td>\n",
       "      <td>11917</td>\n",
       "      <td>Petrol</td>\n",
       "      <td>2017</td>\n",
       "      <td>Maruti</td>\n",
       "      <td>Maharashtra</td>\n",
       "    </tr>\n",
       "    <tr>\n",
       "      <th>992</th>\n",
       "      <td>Maruti Suzuki Alto</td>\n",
       "      <td>Pune</td>\n",
       "      <td>406899</td>\n",
       "      <td>16226</td>\n",
       "      <td>Petrol</td>\n",
       "      <td>2017</td>\n",
       "      <td>Maruti</td>\n",
       "      <td>Maharashtra</td>\n",
       "    </tr>\n",
       "  </tbody>\n",
       "</table>\n",
       "</div>"
      ],
      "text/plain": [
       "                   Name   Location   Price  Kms_driven Fuel_type  Year  \\\n",
       "14   Maruti Suzuki Alto       Pune  399999       25730   Petrol   2017   \n",
       "408  Maruti Suzuki Alto  Bangalore  462399       15032   Petrol   2017   \n",
       "409  Maruti Suzuki Alto       Pune  319999       15575   Petrol   2017   \n",
       "711  Maruti Suzuki Alto  Bangalore  333699       25256   Petrol   2017   \n",
       "843  Maruti Suzuki Alto       Pune  313399       22244   Petrol   2017   \n",
       "990  Maruti Suzuki Alto       Pune  333699       11917   Petrol   2017   \n",
       "992  Maruti Suzuki Alto       Pune  406899       16226   Petrol   2017   \n",
       "\n",
       "    Company        State  \n",
       "14   Maruti  Maharashtra  \n",
       "408  Maruti    Karnataka  \n",
       "409  Maruti  Maharashtra  \n",
       "711  Maruti    Karnataka  \n",
       "843  Maruti  Maharashtra  \n",
       "990  Maruti  Maharashtra  \n",
       "992  Maruti  Maharashtra  "
      ]
     },
     "execution_count": 176,
     "metadata": {},
     "output_type": "execute_result"
    }
   ],
   "source": [
    "df.loc[(df[\"Name\"] == \"Maruti Suzuki Alto\") & (df[\"Year\"] == 2017) & (df[\"Kms_driven\"]<27000 ) ]"
   ]
  },
  {
   "cell_type": "code",
   "execution_count": 177,
   "id": "7564927e",
   "metadata": {},
   "outputs": [
    {
     "data": {
      "text/html": [
       "<div>\n",
       "<style scoped>\n",
       "    .dataframe tbody tr th:only-of-type {\n",
       "        vertical-align: middle;\n",
       "    }\n",
       "\n",
       "    .dataframe tbody tr th {\n",
       "        vertical-align: top;\n",
       "    }\n",
       "\n",
       "    .dataframe thead th {\n",
       "        text-align: right;\n",
       "    }\n",
       "</style>\n",
       "<table border=\"1\" class=\"dataframe\">\n",
       "  <thead>\n",
       "    <tr style=\"text-align: right;\">\n",
       "      <th></th>\n",
       "      <th>index</th>\n",
       "      <th>Name</th>\n",
       "      <th>Location</th>\n",
       "      <th>Price</th>\n",
       "      <th>Kms_driven</th>\n",
       "      <th>Fuel_type</th>\n",
       "      <th>Year</th>\n",
       "      <th>Company</th>\n",
       "      <th>State</th>\n",
       "    </tr>\n",
       "  </thead>\n",
       "  <tbody>\n",
       "    <tr>\n",
       "      <th>0</th>\n",
       "      <td>0</td>\n",
       "      <td>Ford Figo Duratec</td>\n",
       "      <td>Bangalore</td>\n",
       "      <td>380000</td>\n",
       "      <td>35056</td>\n",
       "      <td>Petrol</td>\n",
       "      <td>2015</td>\n",
       "      <td>Ford</td>\n",
       "      <td>Karnataka</td>\n",
       "    </tr>\n",
       "    <tr>\n",
       "      <th>1</th>\n",
       "      <td>1</td>\n",
       "      <td>Maruti Suzuki Wagon</td>\n",
       "      <td>Bangalore</td>\n",
       "      <td>465000</td>\n",
       "      <td>44000</td>\n",
       "      <td>Petrol</td>\n",
       "      <td>2016</td>\n",
       "      <td>Maruti</td>\n",
       "      <td>Karnataka</td>\n",
       "    </tr>\n",
       "    <tr>\n",
       "      <th>2</th>\n",
       "      <td>2</td>\n",
       "      <td>Hyundai Creta 1.6</td>\n",
       "      <td>Bangalore</td>\n",
       "      <td>1350000</td>\n",
       "      <td>42917</td>\n",
       "      <td>Petrol</td>\n",
       "      <td>2018</td>\n",
       "      <td>Hyundai</td>\n",
       "      <td>Karnataka</td>\n",
       "    </tr>\n",
       "    <tr>\n",
       "      <th>3</th>\n",
       "      <td>3</td>\n",
       "      <td>Hyundai Venue -</td>\n",
       "      <td>Chennai</td>\n",
       "      <td>1019699</td>\n",
       "      <td>16112</td>\n",
       "      <td>Petrol</td>\n",
       "      <td>2019</td>\n",
       "      <td>Hyundai</td>\n",
       "      <td>Tamil Nadu</td>\n",
       "    </tr>\n",
       "    <tr>\n",
       "      <th>4</th>\n",
       "      <td>4</td>\n",
       "      <td>Honda Jazz -</td>\n",
       "      <td>Pune</td>\n",
       "      <td>713499</td>\n",
       "      <td>30988</td>\n",
       "      <td>Petrol</td>\n",
       "      <td>2017</td>\n",
       "      <td>Honda</td>\n",
       "      <td>Maharashtra</td>\n",
       "    </tr>\n",
       "    <tr>\n",
       "      <th>...</th>\n",
       "      <td>...</td>\n",
       "      <td>...</td>\n",
       "      <td>...</td>\n",
       "      <td>...</td>\n",
       "      <td>...</td>\n",
       "      <td>...</td>\n",
       "      <td>...</td>\n",
       "      <td>...</td>\n",
       "      <td>...</td>\n",
       "    </tr>\n",
       "    <tr>\n",
       "      <th>1021</th>\n",
       "      <td>1027</td>\n",
       "      <td>Hyundai i10 Magna</td>\n",
       "      <td>Bangalore</td>\n",
       "      <td>229000</td>\n",
       "      <td>65000</td>\n",
       "      <td>Petrol</td>\n",
       "      <td>2014</td>\n",
       "      <td>Hyundai</td>\n",
       "      <td>Karnataka</td>\n",
       "    </tr>\n",
       "    <tr>\n",
       "      <th>1022</th>\n",
       "      <td>1028</td>\n",
       "      <td>Maruti Suzuki Alto</td>\n",
       "      <td>Bangalore</td>\n",
       "      <td>275000</td>\n",
       "      <td>60000</td>\n",
       "      <td>Petrol</td>\n",
       "      <td>2014</td>\n",
       "      <td>Maruti</td>\n",
       "      <td>Karnataka</td>\n",
       "    </tr>\n",
       "    <tr>\n",
       "      <th>1023</th>\n",
       "      <td>1029</td>\n",
       "      <td>Jeep Compass Limited</td>\n",
       "      <td>Mahasamund</td>\n",
       "      <td>1750000</td>\n",
       "      <td>31000</td>\n",
       "      <td>Diesel</td>\n",
       "      <td>2017</td>\n",
       "      <td>Jeep</td>\n",
       "      <td>Chhattisgarh</td>\n",
       "    </tr>\n",
       "    <tr>\n",
       "      <th>1024</th>\n",
       "      <td>1030</td>\n",
       "      <td>Jeep Compass Limited</td>\n",
       "      <td>Bilaspur</td>\n",
       "      <td>1750000</td>\n",
       "      <td>31000</td>\n",
       "      <td>Diesel</td>\n",
       "      <td>2017</td>\n",
       "      <td>Jeep</td>\n",
       "      <td>Chhattisgarh</td>\n",
       "    </tr>\n",
       "    <tr>\n",
       "      <th>1025</th>\n",
       "      <td>1031</td>\n",
       "      <td>Jeep Compass Limited</td>\n",
       "      <td>Jagdalpur</td>\n",
       "      <td>1750000</td>\n",
       "      <td>31000</td>\n",
       "      <td>Diesel</td>\n",
       "      <td>2017</td>\n",
       "      <td>Jeep</td>\n",
       "      <td>Chhattisgarh</td>\n",
       "    </tr>\n",
       "  </tbody>\n",
       "</table>\n",
       "<p>1026 rows × 9 columns</p>\n",
       "</div>"
      ],
      "text/plain": [
       "      index                  Name    Location    Price  Kms_driven Fuel_type  \\\n",
       "0         0     Ford Figo Duratec   Bangalore   380000       35056    Petrol   \n",
       "1         1   Maruti Suzuki Wagon   Bangalore   465000       44000    Petrol   \n",
       "2         2     Hyundai Creta 1.6   Bangalore  1350000       42917    Petrol   \n",
       "3         3       Hyundai Venue -     Chennai  1019699       16112   Petrol    \n",
       "4         4          Honda Jazz -        Pune   713499       30988   Petrol    \n",
       "...     ...                   ...         ...      ...         ...       ...   \n",
       "1021   1027     Hyundai i10 Magna   Bangalore   229000       65000   Petrol    \n",
       "1022   1028    Maruti Suzuki Alto   Bangalore   275000       60000    Petrol   \n",
       "1023   1029  Jeep Compass Limited  Mahasamund  1750000       31000   Diesel    \n",
       "1024   1030  Jeep Compass Limited    Bilaspur  1750000       31000   Diesel    \n",
       "1025   1031  Jeep Compass Limited   Jagdalpur  1750000       31000   Diesel    \n",
       "\n",
       "      Year  Company         State  \n",
       "0     2015     Ford     Karnataka  \n",
       "1     2016   Maruti     Karnataka  \n",
       "2     2018  Hyundai     Karnataka  \n",
       "3     2019  Hyundai    Tamil Nadu  \n",
       "4     2017    Honda   Maharashtra  \n",
       "...    ...      ...           ...  \n",
       "1021  2014  Hyundai     Karnataka  \n",
       "1022  2014   Maruti     Karnataka  \n",
       "1023  2017     Jeep  Chhattisgarh  \n",
       "1024  2017     Jeep  Chhattisgarh  \n",
       "1025  2017     Jeep  Chhattisgarh  \n",
       "\n",
       "[1026 rows x 9 columns]"
      ]
     },
     "execution_count": 177,
     "metadata": {},
     "output_type": "execute_result"
    }
   ],
   "source": [
    "df.reset_index()"
   ]
  },
  {
   "cell_type": "markdown",
   "id": "8f8181ee",
   "metadata": {},
   "source": [
    "## NOTE:\n",
    "1. Null values managed \n",
    "2. numerical type data handled \n",
    "3. Location is converted to state \n",
    "4. Name is handleded Now we have only 260 uniques there \n",
    "\n",
    "## Task Left:\n",
    "1. Checking for the outliers \n",
    "2. Handling Categorical Data \n",
    "3. Checking for correlation Between Numerical value columns \n",
    "4. Dropping Location column\n",
    "5. X,y making "
   ]
  },
  {
   "cell_type": "code",
   "execution_count": 178,
   "id": "c34b952f",
   "metadata": {},
   "outputs": [
    {
     "name": "stdout",
     "output_type": "stream",
     "text": [
      "<class 'pandas.core.frame.DataFrame'>\n",
      "Int64Index: 1026 entries, 0 to 1031\n",
      "Data columns (total 8 columns):\n",
      " #   Column      Non-Null Count  Dtype \n",
      "---  ------      --------------  ----- \n",
      " 0   Name        1026 non-null   object\n",
      " 1   Location    1026 non-null   object\n",
      " 2   Price       1026 non-null   int64 \n",
      " 3   Kms_driven  1026 non-null   int64 \n",
      " 4   Fuel_type   1026 non-null   object\n",
      " 5   Year        1026 non-null   int64 \n",
      " 6   Company     1026 non-null   object\n",
      " 7   State       1026 non-null   object\n",
      "dtypes: int64(3), object(5)\n",
      "memory usage: 72.1+ KB\n"
     ]
    }
   ],
   "source": [
    "df.info()"
   ]
  },
  {
   "cell_type": "code",
   "execution_count": 179,
   "id": "7a19e86c",
   "metadata": {},
   "outputs": [
    {
     "data": {
      "text/html": [
       "<div>\n",
       "<style scoped>\n",
       "    .dataframe tbody tr th:only-of-type {\n",
       "        vertical-align: middle;\n",
       "    }\n",
       "\n",
       "    .dataframe tbody tr th {\n",
       "        vertical-align: top;\n",
       "    }\n",
       "\n",
       "    .dataframe thead th {\n",
       "        text-align: right;\n",
       "    }\n",
       "</style>\n",
       "<table border=\"1\" class=\"dataframe\">\n",
       "  <thead>\n",
       "    <tr style=\"text-align: right;\">\n",
       "      <th></th>\n",
       "      <th>Price</th>\n",
       "      <th>Kms_driven</th>\n",
       "      <th>Year</th>\n",
       "    </tr>\n",
       "  </thead>\n",
       "  <tbody>\n",
       "    <tr>\n",
       "      <th>count</th>\n",
       "      <td>1.026000e+03</td>\n",
       "      <td>1026.000000</td>\n",
       "      <td>1026.000000</td>\n",
       "    </tr>\n",
       "    <tr>\n",
       "      <th>mean</th>\n",
       "      <td>6.857131e+05</td>\n",
       "      <td>50299.542885</td>\n",
       "      <td>2015.809942</td>\n",
       "    </tr>\n",
       "    <tr>\n",
       "      <th>std</th>\n",
       "      <td>5.374755e+05</td>\n",
       "      <td>38143.114092</td>\n",
       "      <td>3.403289</td>\n",
       "    </tr>\n",
       "    <tr>\n",
       "      <th>min</th>\n",
       "      <td>3.900000e+04</td>\n",
       "      <td>0.000000</td>\n",
       "      <td>2000.000000</td>\n",
       "    </tr>\n",
       "    <tr>\n",
       "      <th>25%</th>\n",
       "      <td>4.104990e+05</td>\n",
       "      <td>26228.750000</td>\n",
       "      <td>2014.000000</td>\n",
       "    </tr>\n",
       "    <tr>\n",
       "      <th>50%</th>\n",
       "      <td>5.576990e+05</td>\n",
       "      <td>44000.000000</td>\n",
       "      <td>2016.000000</td>\n",
       "    </tr>\n",
       "    <tr>\n",
       "      <th>75%</th>\n",
       "      <td>7.885990e+05</td>\n",
       "      <td>67551.000000</td>\n",
       "      <td>2018.000000</td>\n",
       "    </tr>\n",
       "    <tr>\n",
       "      <th>max</th>\n",
       "      <td>7.500000e+06</td>\n",
       "      <td>690000.000000</td>\n",
       "      <td>2022.000000</td>\n",
       "    </tr>\n",
       "  </tbody>\n",
       "</table>\n",
       "</div>"
      ],
      "text/plain": [
       "              Price     Kms_driven         Year\n",
       "count  1.026000e+03    1026.000000  1026.000000\n",
       "mean   6.857131e+05   50299.542885  2015.809942\n",
       "std    5.374755e+05   38143.114092     3.403289\n",
       "min    3.900000e+04       0.000000  2000.000000\n",
       "25%    4.104990e+05   26228.750000  2014.000000\n",
       "50%    5.576990e+05   44000.000000  2016.000000\n",
       "75%    7.885990e+05   67551.000000  2018.000000\n",
       "max    7.500000e+06  690000.000000  2022.000000"
      ]
     },
     "execution_count": 179,
     "metadata": {},
     "output_type": "execute_result"
    }
   ],
   "source": [
    "df.describe()"
   ]
  },
  {
   "cell_type": "code",
   "execution_count": 180,
   "id": "cb1c1b61",
   "metadata": {},
   "outputs": [
    {
     "data": {
      "text/plain": [
       "(1026, 8)"
      ]
     },
     "execution_count": 180,
     "metadata": {},
     "output_type": "execute_result"
    }
   ],
   "source": [
    "df.shape"
   ]
  },
  {
   "cell_type": "markdown",
   "id": "83c90dba",
   "metadata": {},
   "source": [
    "## IQR Range for Price and Kms"
   ]
  },
  {
   "cell_type": "code",
   "execution_count": 181,
   "id": "e9be7df0",
   "metadata": {},
   "outputs": [],
   "source": [
    "Price_range = np.percentile(df[\"Price\"],[25,75])\n",
    "iqr_price = Price_range[1] - Price_range[0]\n",
    "Lower_bound_price = Price_range[0] - (1.5*iqr_price)\n",
    "Upper_bound_price = Price_range[1] + (1.5*iqr_price)"
   ]
  },
  {
   "cell_type": "code",
   "execution_count": 182,
   "id": "ad4e831b",
   "metadata": {
    "scrolled": true
   },
   "outputs": [
    {
     "name": "stdout",
     "output_type": "stream",
     "text": [
      "Lower_bound_price : -156651.0\n",
      "Upper_bound_price : 1355749.0\n"
     ]
    }
   ],
   "source": [
    "print(\"Lower_bound_price :\", Lower_bound_price)\n",
    "print(\"Upper_bound_price :\" ,Upper_bound_price)\n"
   ]
  },
  {
   "cell_type": "code",
   "execution_count": 183,
   "id": "8c323091",
   "metadata": {},
   "outputs": [],
   "source": [
    "kms_range = np.percentile(df[\"Kms_driven\"],[25,75])\n",
    "iqr_kms = kms_range[1] - kms_range[0]\n",
    "Lower_bound_kms = kms_range[0] - (1.5*iqr_kms)\n",
    "Upper_bound_kms = kms_range[1] + (1.5*iqr_kms)"
   ]
  },
  {
   "cell_type": "code",
   "execution_count": 184,
   "id": "4b480a36",
   "metadata": {},
   "outputs": [
    {
     "name": "stdout",
     "output_type": "stream",
     "text": [
      "Lower_bound_kms : -35754.625\n",
      "Upper_bound_kms : 129534.375\n"
     ]
    }
   ],
   "source": [
    "print(\"Lower_bound_kms :\", Lower_bound_kms)\n",
    "print(\"Upper_bound_kms :\" ,Upper_bound_kms)\n"
   ]
  },
  {
   "cell_type": "markdown",
   "id": "2f152643",
   "metadata": {},
   "source": [
    "## Understanding Car_Price Outliers\n",
    "1. Weather all the outliers car are from premium Brands\n",
    "2. If not suppose for TATA and Hyundai Check for Models\n",
    "3. Also we need to check into the Year \n",
    "4. Considering all factor handling of outliers will be taken care"
   ]
  },
  {
   "cell_type": "code",
   "execution_count": 185,
   "id": "6f26eb2f",
   "metadata": {},
   "outputs": [],
   "source": [
    "outlier_price=[]\n",
    "for i in df[\"Price\"]:\n",
    "    if (i > Upper_bound_price):\n",
    "        #print(i)\n",
    "        outlier_price.append(i)"
   ]
  },
  {
   "cell_type": "code",
   "execution_count": 186,
   "id": "adc14438",
   "metadata": {},
   "outputs": [],
   "source": [
    "outlier_price_pos=[]\n",
    "for i in range(len(df[\"Price\"])):\n",
    "    #print(df.loc[i,\"Price\"])\n",
    "    if df.iloc[i,2] > Upper_bound_price:\n",
    "        #print(i)\n",
    "        outlier_price_pos.append(i)"
   ]
  },
  {
   "cell_type": "code",
   "execution_count": 187,
   "id": "d0b393ef",
   "metadata": {},
   "outputs": [],
   "source": [
    "tb1 = pd.DataFrame(df.iloc[outlier_price_pos,:])"
   ]
  },
  {
   "cell_type": "code",
   "execution_count": 188,
   "id": "7840f428",
   "metadata": {
    "scrolled": false
   },
   "outputs": [
    {
     "data": {
      "text/html": [
       "<div>\n",
       "<style scoped>\n",
       "    .dataframe tbody tr th:only-of-type {\n",
       "        vertical-align: middle;\n",
       "    }\n",
       "\n",
       "    .dataframe tbody tr th {\n",
       "        vertical-align: top;\n",
       "    }\n",
       "\n",
       "    .dataframe thead th {\n",
       "        text-align: right;\n",
       "    }\n",
       "</style>\n",
       "<table border=\"1\" class=\"dataframe\">\n",
       "  <thead>\n",
       "    <tr style=\"text-align: right;\">\n",
       "      <th></th>\n",
       "      <th>Name</th>\n",
       "      <th>Location</th>\n",
       "      <th>Price</th>\n",
       "      <th>Kms_driven</th>\n",
       "      <th>Fuel_type</th>\n",
       "      <th>Year</th>\n",
       "      <th>Company</th>\n",
       "      <th>State</th>\n",
       "    </tr>\n",
       "  </thead>\n",
       "  <tbody>\n",
       "    <tr>\n",
       "      <th>38</th>\n",
       "      <td>Hyundai Creta S</td>\n",
       "      <td>Pune</td>\n",
       "      <td>1460099</td>\n",
       "      <td>17814</td>\n",
       "      <td>Diesel</td>\n",
       "      <td>2020</td>\n",
       "      <td>Hyundai</td>\n",
       "      <td>Maharashtra</td>\n",
       "    </tr>\n",
       "    <tr>\n",
       "      <th>117</th>\n",
       "      <td>Hyundai Verna 1.6</td>\n",
       "      <td>Coimbatore</td>\n",
       "      <td>1550000</td>\n",
       "      <td>13000</td>\n",
       "      <td>Petrol</td>\n",
       "      <td>2022</td>\n",
       "      <td>Hyundai</td>\n",
       "      <td>Tamil Nadu</td>\n",
       "    </tr>\n",
       "    <tr>\n",
       "      <th>161</th>\n",
       "      <td>Hyundai Creta 1.6</td>\n",
       "      <td>Hyderabad</td>\n",
       "      <td>1452000</td>\n",
       "      <td>28000</td>\n",
       "      <td>Diesel</td>\n",
       "      <td>2018</td>\n",
       "      <td>Hyundai</td>\n",
       "      <td>Andhra Pradesh</td>\n",
       "    </tr>\n",
       "    <tr>\n",
       "      <th>227</th>\n",
       "      <td>Hyundai Creta -</td>\n",
       "      <td>Pune</td>\n",
       "      <td>1373699</td>\n",
       "      <td>31338</td>\n",
       "      <td>Petrol</td>\n",
       "      <td>2018</td>\n",
       "      <td>Hyundai</td>\n",
       "      <td>Maharashtra</td>\n",
       "    </tr>\n",
       "    <tr>\n",
       "      <th>242</th>\n",
       "      <td>Hyundai Creta -</td>\n",
       "      <td>Pune</td>\n",
       "      <td>1780399</td>\n",
       "      <td>28344</td>\n",
       "      <td>Diesel</td>\n",
       "      <td>2020</td>\n",
       "      <td>Hyundai</td>\n",
       "      <td>Maharashtra</td>\n",
       "    </tr>\n",
       "    <tr>\n",
       "      <th>258</th>\n",
       "      <td>Hyundai Creta 1.6</td>\n",
       "      <td>Pune</td>\n",
       "      <td>1750000</td>\n",
       "      <td>45000</td>\n",
       "      <td>Diesel</td>\n",
       "      <td>2020</td>\n",
       "      <td>Hyundai</td>\n",
       "      <td>Maharashtra</td>\n",
       "    </tr>\n",
       "    <tr>\n",
       "      <th>279</th>\n",
       "      <td>Hyundai Creta -</td>\n",
       "      <td>Pune</td>\n",
       "      <td>1804399</td>\n",
       "      <td>14506</td>\n",
       "      <td>Petrol</td>\n",
       "      <td>2020</td>\n",
       "      <td>Hyundai</td>\n",
       "      <td>Maharashtra</td>\n",
       "    </tr>\n",
       "    <tr>\n",
       "      <th>288</th>\n",
       "      <td>Hyundai Creta -</td>\n",
       "      <td>Pune</td>\n",
       "      <td>1804399</td>\n",
       "      <td>14506</td>\n",
       "      <td>Petrol</td>\n",
       "      <td>2020</td>\n",
       "      <td>Hyundai</td>\n",
       "      <td>Maharashtra</td>\n",
       "    </tr>\n",
       "    <tr>\n",
       "      <th>425</th>\n",
       "      <td>Hyundai Creta 1.6</td>\n",
       "      <td>Bangalore</td>\n",
       "      <td>1865000</td>\n",
       "      <td>8000</td>\n",
       "      <td>Petrol</td>\n",
       "      <td>2020</td>\n",
       "      <td>Hyundai</td>\n",
       "      <td>Karnataka</td>\n",
       "    </tr>\n",
       "    <tr>\n",
       "      <th>429</th>\n",
       "      <td>Hyundai Creta 1.6</td>\n",
       "      <td>Pondicherry</td>\n",
       "      <td>1575000</td>\n",
       "      <td>23000</td>\n",
       "      <td>Diesel</td>\n",
       "      <td>2020</td>\n",
       "      <td>Hyundai</td>\n",
       "      <td>Puducherry</td>\n",
       "    </tr>\n",
       "    <tr>\n",
       "      <th>797</th>\n",
       "      <td>Hyundai Creta -</td>\n",
       "      <td>Pune</td>\n",
       "      <td>1373699</td>\n",
       "      <td>69711</td>\n",
       "      <td>Petrol</td>\n",
       "      <td>2018</td>\n",
       "      <td>Hyundai</td>\n",
       "      <td>Maharashtra</td>\n",
       "    </tr>\n",
       "  </tbody>\n",
       "</table>\n",
       "</div>"
      ],
      "text/plain": [
       "                  Name     Location    Price  Kms_driven Fuel_type  Year  \\\n",
       "38     Hyundai Creta S         Pune  1460099       17814   Diesel   2020   \n",
       "117  Hyundai Verna 1.6   Coimbatore  1550000       13000   Petrol   2022   \n",
       "161  Hyundai Creta 1.6    Hyderabad  1452000       28000    Diesel  2018   \n",
       "227    Hyundai Creta -         Pune  1373699       31338   Petrol   2018   \n",
       "242    Hyundai Creta -         Pune  1780399       28344   Diesel   2020   \n",
       "258  Hyundai Creta 1.6         Pune  1750000       45000    Diesel  2020   \n",
       "279    Hyundai Creta -         Pune  1804399       14506   Petrol   2020   \n",
       "288    Hyundai Creta -         Pune  1804399       14506   Petrol   2020   \n",
       "425  Hyundai Creta 1.6    Bangalore  1865000        8000    Petrol  2020   \n",
       "429  Hyundai Creta 1.6  Pondicherry  1575000       23000    Diesel  2020   \n",
       "797    Hyundai Creta -         Pune  1373699       69711   Petrol   2018   \n",
       "\n",
       "     Company           State  \n",
       "38   Hyundai     Maharashtra  \n",
       "117  Hyundai      Tamil Nadu  \n",
       "161  Hyundai  Andhra Pradesh  \n",
       "227  Hyundai     Maharashtra  \n",
       "242  Hyundai     Maharashtra  \n",
       "258  Hyundai     Maharashtra  \n",
       "279  Hyundai     Maharashtra  \n",
       "288  Hyundai     Maharashtra  \n",
       "425  Hyundai       Karnataka  \n",
       "429  Hyundai      Puducherry  \n",
       "797  Hyundai     Maharashtra  "
      ]
     },
     "execution_count": 188,
     "metadata": {},
     "output_type": "execute_result"
    }
   ],
   "source": [
    "tb1[tb1[\"Company\"] == \"Hyundai\"]"
   ]
  },
  {
   "cell_type": "code",
   "execution_count": 189,
   "id": "4e19190e",
   "metadata": {},
   "outputs": [
    {
     "data": {
      "text/html": [
       "<div>\n",
       "<style scoped>\n",
       "    .dataframe tbody tr th:only-of-type {\n",
       "        vertical-align: middle;\n",
       "    }\n",
       "\n",
       "    .dataframe tbody tr th {\n",
       "        vertical-align: top;\n",
       "    }\n",
       "\n",
       "    .dataframe thead th {\n",
       "        text-align: right;\n",
       "    }\n",
       "</style>\n",
       "<table border=\"1\" class=\"dataframe\">\n",
       "  <thead>\n",
       "    <tr style=\"text-align: right;\">\n",
       "      <th></th>\n",
       "      <th>Name</th>\n",
       "      <th>Location</th>\n",
       "      <th>Price</th>\n",
       "      <th>Kms_driven</th>\n",
       "      <th>Fuel_type</th>\n",
       "      <th>Year</th>\n",
       "      <th>Company</th>\n",
       "      <th>State</th>\n",
       "    </tr>\n",
       "  </thead>\n",
       "  <tbody>\n",
       "    <tr>\n",
       "      <th>718</th>\n",
       "      <td>Mercedes Benz GLE</td>\n",
       "      <td>Mumbai</td>\n",
       "      <td>7500000</td>\n",
       "      <td>35000</td>\n",
       "      <td>Petrol</td>\n",
       "      <td>2019</td>\n",
       "      <td>Mercedes</td>\n",
       "      <td>Maharashtra</td>\n",
       "    </tr>\n",
       "  </tbody>\n",
       "</table>\n",
       "</div>"
      ],
      "text/plain": [
       "                  Name Location    Price  Kms_driven Fuel_type  Year  \\\n",
       "718  Mercedes Benz GLE   Mumbai  7500000       35000    Petrol  2019   \n",
       "\n",
       "      Company        State  \n",
       "718  Mercedes  Maharashtra  "
      ]
     },
     "execution_count": 189,
     "metadata": {},
     "output_type": "execute_result"
    }
   ],
   "source": [
    "tb1[tb1[\"Price\"] == max(tb1[\"Price\"])]"
   ]
  },
  {
   "cell_type": "code",
   "execution_count": 190,
   "id": "daa2caa4",
   "metadata": {},
   "outputs": [],
   "source": [
    "outliers_price_Brand = pd.DataFrame(df.iloc[outlier_price_pos,6])"
   ]
  },
  {
   "cell_type": "code",
   "execution_count": 191,
   "id": "338255bf",
   "metadata": {
    "scrolled": true
   },
   "outputs": [
    {
     "data": {
      "text/plain": [
       "Company \n",
       "MG          16\n",
       "Toyota      14\n",
       "Hyundai     11\n",
       "Jeep        10\n",
       "Kia          8\n",
       "Tata         6\n",
       "Audi         5\n",
       "Mahindra     3\n",
       "Mercedes     3\n",
       "BMW          2\n",
       "Honda        2\n",
       "Jaguar       2\n",
       "Volvo        2\n",
       "Land         1\n",
       "Porsche      1\n",
       "dtype: int64"
      ]
     },
     "execution_count": 191,
     "metadata": {},
     "output_type": "execute_result"
    }
   ],
   "source": [
    "outliers_price_Brand.value_counts()"
   ]
  },
  {
   "cell_type": "code",
   "execution_count": 192,
   "id": "bbef198b",
   "metadata": {},
   "outputs": [
    {
     "data": {
      "text/plain": [
       "Maruti        383\n",
       "Hyundai       226\n",
       "Honda          79\n",
       "Ford           51\n",
       "Tata           44\n",
       "Renault        43\n",
       "Toyota         41\n",
       "Mahindra       41\n",
       "Volkswagen     29\n",
       "MG             17\n",
       "Chevrolet      11\n",
       "Kia            10\n",
       "Jeep           10\n",
       "BMW             7\n",
       "Skoda           6\n",
       "Nissan          5\n",
       "Audi            5\n",
       "Mercedes        4\n",
       "Datsun          4\n",
       "Fiat            3\n",
       "Volvo           2\n",
       "Jaguar          2\n",
       "Ssangyong       1\n",
       "Land            1\n",
       "Porsche         1\n",
       "Name: Company, dtype: int64"
      ]
     },
     "execution_count": 192,
     "metadata": {},
     "output_type": "execute_result"
    }
   ],
   "source": [
    "df[\"Company\"].value_counts()"
   ]
  },
  {
   "cell_type": "code",
   "execution_count": 193,
   "id": "6921c74c",
   "metadata": {},
   "outputs": [],
   "source": [
    "outlier_price.sort()"
   ]
  },
  {
   "cell_type": "code",
   "execution_count": 194,
   "id": "eb81ee9c",
   "metadata": {
    "scrolled": true
   },
   "outputs": [
    {
     "data": {
      "text/plain": [
       "array([  17950.,   17950.,   19251.,   21450.,   41950.,   45250.,\n",
       "         45251.,   45251.,   65850.,   69251.,   96251.,  104350.,\n",
       "        109450.,  117550.,  144251.,  144251.,  144251.,  145251.,\n",
       "        145251.,  153050.,  162250.,  162350.,  183550.,  194251.,\n",
       "        195750.,  219251.,  239251.,  289050.,  296450.,  301250.,\n",
       "        326150.,  326150.,  350050.,  355750.,  382150.,  394150.,\n",
       "        394251.,  394251.,  394251.,  394251.,  394251.,  394251.,\n",
       "        394251.,  408450.,  424650.,  428950.,  434251.,  444550.,\n",
       "        444550.,  448650.,  448650.,  458850.,  475251.,  482650.,\n",
       "        494251.,  494251.,  498850.,  509251.,  534251.,  561850.,\n",
       "        561850.,  564650.,  593139.,  596450.,  624251.,  631950.,\n",
       "        644251.,  664150.,  701650.,  766350.,  794251.,  844251.,\n",
       "        844251.,  894251.,  916750.,  994251., 1575251., 1644251.,\n",
       "       1944251., 2244251., 2294251., 2344251., 3069251., 3094251.,\n",
       "       3134251., 6144251.])"
      ]
     },
     "execution_count": 194,
     "metadata": {},
     "output_type": "execute_result"
    }
   ],
   "source": [
    "outlier_price - Upper_bound_price"
   ]
  },
  {
   "cell_type": "markdown",
   "id": "a370be5c",
   "metadata": {},
   "source": [
    "## Understanding Car_Kms Outliers"
   ]
  },
  {
   "cell_type": "code",
   "execution_count": 195,
   "id": "ec17a4bd",
   "metadata": {},
   "outputs": [],
   "source": [
    "outlier_kms=[]\n",
    "for i in df[\"Kms_driven\"]:\n",
    "    if (i > Upper_bound_kms):\n",
    "        #print(i)\n",
    "        outlier_kms.append(i)"
   ]
  },
  {
   "cell_type": "code",
   "execution_count": 196,
   "id": "bff019e3",
   "metadata": {},
   "outputs": [],
   "source": [
    "outlier_kms.sort() "
   ]
  },
  {
   "cell_type": "code",
   "execution_count": 197,
   "id": "b174414f",
   "metadata": {},
   "outputs": [
    {
     "data": {
      "text/plain": [
       "array([  1465.625,   1465.625,   2465.625,   4965.625,   5465.625,\n",
       "         5465.625,   6465.625,   6547.625,   6846.625,   9181.625,\n",
       "        10465.625,  11465.625,  13612.625,  17247.625,  17465.625,\n",
       "        18284.625,  18425.625,  19465.625,  20465.625,  24569.625,\n",
       "        25465.625,  25465.625,  26907.625,  27396.625,  30465.625,\n",
       "        30465.625,  40465.625,  49465.625,  65465.625,  65465.625,\n",
       "        70465.625,  80465.625, 560465.625])"
      ]
     },
     "execution_count": 197,
     "metadata": {},
     "output_type": "execute_result"
    }
   ],
   "source": [
    "outlier_kms - Upper_bound_kms"
   ]
  },
  {
   "cell_type": "markdown",
   "id": "f9e58ea7",
   "metadata": {},
   "source": [
    "## Note.\n",
    "1.In First Initilaztion no Outlier is drop as we have seen high price car either belongs to premium brands or are premium\n",
    "models.\n",
    "\n",
    "2.In case later the RMSE or MSE or R2-score donot seems to be appropiate then we will again revisit the outliers"
   ]
  },
  {
   "cell_type": "code",
   "execution_count": 198,
   "id": "1d71185c",
   "metadata": {},
   "outputs": [],
   "source": [
    "data = df.copy()"
   ]
  },
  {
   "cell_type": "code",
   "execution_count": 199,
   "id": "4d43e0e5",
   "metadata": {},
   "outputs": [],
   "source": [
    "data.drop([\"Location\"] ,axis = \"columns\" , inplace = True)"
   ]
  },
  {
   "cell_type": "code",
   "execution_count": 200,
   "id": "335eaf2d",
   "metadata": {},
   "outputs": [],
   "source": [
    "y = data[\"Price\"]"
   ]
  },
  {
   "cell_type": "code",
   "execution_count": 201,
   "id": "d8674820",
   "metadata": {},
   "outputs": [],
   "source": [
    "X = data.copy()\n",
    "X.drop([\"Price\"] ,axis = \"columns\" , inplace = True)"
   ]
  },
  {
   "cell_type": "code",
   "execution_count": 202,
   "id": "b730944b",
   "metadata": {},
   "outputs": [
    {
     "name": "stdout",
     "output_type": "stream",
     "text": [
      "Unique States : 17\n"
     ]
    }
   ],
   "source": [
    "print(\"Unique States :\" , len(X[\"State\"].unique()))"
   ]
  },
  {
   "cell_type": "code",
   "execution_count": 203,
   "id": "272eef35",
   "metadata": {},
   "outputs": [
    {
     "data": {
      "text/plain": [
       "array(['Karnataka', 'Tamil Nadu', 'Maharashtra', 'Andhra Pradesh',\n",
       "       'Haryana', 'Kerala', 'West Bengal', 'Uttar Pradesh',\n",
       "       'NCT of Delhi', 'Odisha', 'Puducherry', 'Tripura', 'Gujarat',\n",
       "       'Rajasthan', 'Bihar', 'Jharkhand', 'Chhattisgarh'], dtype=object)"
      ]
     },
     "execution_count": 203,
     "metadata": {},
     "output_type": "execute_result"
    }
   ],
   "source": [
    "X[\"State\"].unique()"
   ]
  },
  {
   "cell_type": "code",
   "execution_count": 204,
   "id": "28baa0d9",
   "metadata": {},
   "outputs": [
    {
     "name": "stdout",
     "output_type": "stream",
     "text": [
      "Unique Models : 230\n"
     ]
    }
   ],
   "source": [
    "print(\"Unique Models :\" , len(X[\"Name\"].unique()))"
   ]
  },
  {
   "cell_type": "code",
   "execution_count": 205,
   "id": "c6c52e10",
   "metadata": {},
   "outputs": [
    {
     "name": "stdout",
     "output_type": "stream",
     "text": [
      "Unique Company : 25\n"
     ]
    }
   ],
   "source": [
    "print(\"Unique Company :\" , len(X[\"Company\"].unique()))"
   ]
  },
  {
   "cell_type": "code",
   "execution_count": 206,
   "id": "bc41f5de",
   "metadata": {},
   "outputs": [
    {
     "data": {
      "text/plain": [
       "array(['Ford', 'Maruti', 'Hyundai', 'Honda', 'Toyota', 'Jeep', 'Kia',\n",
       "       'Tata', 'Audi', 'Renault', 'BMW', 'Nissan', 'MG', 'Mahindra',\n",
       "       'Volkswagen', 'Volvo', 'Skoda', 'Jaguar', 'Mercedes', 'Ssangyong',\n",
       "       'Fiat', 'Chevrolet', 'Datsun', 'Land', 'Porsche'], dtype=object)"
      ]
     },
     "execution_count": 206,
     "metadata": {},
     "output_type": "execute_result"
    }
   ],
   "source": [
    "X[\"Company\"].unique()"
   ]
  },
  {
   "cell_type": "markdown",
   "id": "49c7e949",
   "metadata": {},
   "source": [
    "## Unique Fuel_type = 10\n",
    "1. More than expected "
   ]
  },
  {
   "cell_type": "code",
   "execution_count": 207,
   "id": "05a16521",
   "metadata": {},
   "outputs": [
    {
     "name": "stdout",
     "output_type": "stream",
     "text": [
      "Unique Fuel_type : 10\n"
     ]
    }
   ],
   "source": [
    "print(\"Unique Fuel_type :\" , len(X[\"Fuel_type\"].unique()))"
   ]
  },
  {
   "cell_type": "code",
   "execution_count": 208,
   "id": "5e9c1179",
   "metadata": {},
   "outputs": [
    {
     "data": {
      "text/plain": [
       "array([' Petrol', ' Petrol ', ' Diesel ', ' Diesel', ' Electric ', ' CNG',\n",
       "       ' LPG', ' Petrol + CNG ', ' Hybrid ', ' CNG '], dtype=object)"
      ]
     },
     "execution_count": 208,
     "metadata": {},
     "output_type": "execute_result"
    }
   ],
   "source": [
    "df[\"Fuel_type\"].unique()"
   ]
  },
  {
   "cell_type": "markdown",
   "id": "1abdd1b8",
   "metadata": {},
   "source": [
    "### Note:\n",
    "1. We need to strip down the space available\n",
    "2. We need to check same for others also"
   ]
  },
  {
   "cell_type": "code",
   "execution_count": 209,
   "id": "814d6be6",
   "metadata": {},
   "outputs": [],
   "source": [
    "X['Fuel_type'] = X['Fuel_type'].str.strip()\n"
   ]
  },
  {
   "cell_type": "code",
   "execution_count": 210,
   "id": "e471a4ea",
   "metadata": {
    "scrolled": true
   },
   "outputs": [
    {
     "data": {
      "text/html": [
       "<div>\n",
       "<style scoped>\n",
       "    .dataframe tbody tr th:only-of-type {\n",
       "        vertical-align: middle;\n",
       "    }\n",
       "\n",
       "    .dataframe tbody tr th {\n",
       "        vertical-align: top;\n",
       "    }\n",
       "\n",
       "    .dataframe thead th {\n",
       "        text-align: right;\n",
       "    }\n",
       "</style>\n",
       "<table border=\"1\" class=\"dataframe\">\n",
       "  <thead>\n",
       "    <tr style=\"text-align: right;\">\n",
       "      <th></th>\n",
       "      <th>Name</th>\n",
       "      <th>Kms_driven</th>\n",
       "      <th>Fuel_type</th>\n",
       "      <th>Year</th>\n",
       "      <th>Company</th>\n",
       "      <th>State</th>\n",
       "    </tr>\n",
       "  </thead>\n",
       "  <tbody>\n",
       "    <tr>\n",
       "      <th>0</th>\n",
       "      <td>Ford Figo Duratec</td>\n",
       "      <td>35056</td>\n",
       "      <td>Petrol</td>\n",
       "      <td>2015</td>\n",
       "      <td>Ford</td>\n",
       "      <td>Karnataka</td>\n",
       "    </tr>\n",
       "    <tr>\n",
       "      <th>1</th>\n",
       "      <td>Maruti Suzuki Wagon</td>\n",
       "      <td>44000</td>\n",
       "      <td>Petrol</td>\n",
       "      <td>2016</td>\n",
       "      <td>Maruti</td>\n",
       "      <td>Karnataka</td>\n",
       "    </tr>\n",
       "    <tr>\n",
       "      <th>2</th>\n",
       "      <td>Hyundai Creta 1.6</td>\n",
       "      <td>42917</td>\n",
       "      <td>Petrol</td>\n",
       "      <td>2018</td>\n",
       "      <td>Hyundai</td>\n",
       "      <td>Karnataka</td>\n",
       "    </tr>\n",
       "    <tr>\n",
       "      <th>3</th>\n",
       "      <td>Hyundai Venue -</td>\n",
       "      <td>16112</td>\n",
       "      <td>Petrol</td>\n",
       "      <td>2019</td>\n",
       "      <td>Hyundai</td>\n",
       "      <td>Tamil Nadu</td>\n",
       "    </tr>\n",
       "    <tr>\n",
       "      <th>4</th>\n",
       "      <td>Honda Jazz -</td>\n",
       "      <td>30988</td>\n",
       "      <td>Petrol</td>\n",
       "      <td>2017</td>\n",
       "      <td>Honda</td>\n",
       "      <td>Maharashtra</td>\n",
       "    </tr>\n",
       "  </tbody>\n",
       "</table>\n",
       "</div>"
      ],
      "text/plain": [
       "                  Name  Kms_driven Fuel_type  Year  Company        State\n",
       "0    Ford Figo Duratec       35056    Petrol  2015     Ford    Karnataka\n",
       "1  Maruti Suzuki Wagon       44000    Petrol  2016   Maruti    Karnataka\n",
       "2    Hyundai Creta 1.6       42917    Petrol  2018  Hyundai    Karnataka\n",
       "3      Hyundai Venue -       16112    Petrol  2019  Hyundai   Tamil Nadu\n",
       "4         Honda Jazz -       30988    Petrol  2017    Honda  Maharashtra"
      ]
     },
     "execution_count": 210,
     "metadata": {},
     "output_type": "execute_result"
    }
   ],
   "source": [
    "X.head()"
   ]
  },
  {
   "cell_type": "code",
   "execution_count": 211,
   "id": "645428f3",
   "metadata": {},
   "outputs": [
    {
     "name": "stdout",
     "output_type": "stream",
     "text": [
      "Unique Fuel_type : 7\n"
     ]
    }
   ],
   "source": [
    "print(\"Unique Fuel_type :\" , len(X[\"Fuel_type\"].unique()))"
   ]
  },
  {
   "cell_type": "code",
   "execution_count": 212,
   "id": "a6cdd719",
   "metadata": {
    "scrolled": true
   },
   "outputs": [
    {
     "data": {
      "text/plain": [
       "array(['Petrol', 'Diesel', 'Electric', 'CNG', 'LPG', 'Petrol + CNG',\n",
       "       'Hybrid'], dtype=object)"
      ]
     },
     "execution_count": 212,
     "metadata": {},
     "output_type": "execute_result"
    }
   ],
   "source": [
    "X[\"Fuel_type\"].unique()"
   ]
  },
  {
   "cell_type": "markdown",
   "id": "a268b771",
   "metadata": {},
   "source": [
    "## Looking Again in Name Column "
   ]
  },
  {
   "cell_type": "code",
   "execution_count": 213,
   "id": "205a7ac4",
   "metadata": {},
   "outputs": [],
   "source": [
    "X['Name'] = X['Name'].str.replace(\"-\",\"\")\n",
    "X['Name'] = X['Name'].str.strip()"
   ]
  },
  {
   "cell_type": "code",
   "execution_count": 214,
   "id": "8788085f",
   "metadata": {},
   "outputs": [
    {
     "name": "stdout",
     "output_type": "stream",
     "text": [
      "Unique Models : 230\n"
     ]
    }
   ],
   "source": [
    "print(\"Unique Models :\" , len(X[\"Name\"].unique()))"
   ]
  },
  {
   "cell_type": "code",
   "execution_count": 215,
   "id": "8880004b",
   "metadata": {},
   "outputs": [
    {
     "data": {
      "text/plain": [
       "array(['Ford Figo Duratec', 'Maruti Suzuki Wagon', 'Hyundai Creta 1.6',\n",
       "       'Hyundai Venue', 'Honda Jazz', 'Hyundai i20',\n",
       "       'Maruti Suzuki Swift', 'Toyota Corolla Altis', 'Honda Amaze',\n",
       "       'Hyundai Elite i20', 'Maruti Suzuki Alto', 'Maruti Suzuki Baleno',\n",
       "       'Jeep Compass', 'Kia Seltos', 'Toyota Innova 2.5',\n",
       "       'Maruti Suzuki Ciaz', 'Ford EcoSport Titanium', 'Tata Nano Twist',\n",
       "       'Audi Q7 3.0', 'Ford Ecosport', 'Hyundai Grand i10',\n",
       "       'Toyota Yaris', 'Tata Nexon', 'Ford Ecosport 1.0',\n",
       "       'Renault Triber', 'Hyundai EON Magna', 'Hyundai Creta S',\n",
       "       'Hyundai i20 Asta', 'BMW 3 Series', 'Nissan Micra XV',\n",
       "       'Toyota Glanza V', 'Honda Brio S', 'MG Motors Hector',\n",
       "       'Maruti Suzuki Vitara', 'Honda City', 'Mahindra XUV 500',\n",
       "       'Volkswagen Polo', 'Volvo XC90 D5', 'Toyota Fortuner 3.0',\n",
       "       'Honda Jazz VX', 'Hyundai i10 Asta', 'Tata Nexon XM',\n",
       "       'Hyundai Verna 1.6', 'Hyundai Santro Sportz', 'Maruti Suzuki S',\n",
       "       'Honda City VX', 'Renault Kwid', 'Toyota Innova Crysta',\n",
       "       'Tata Zest XMS', 'Ford Freestyle TITANIUM', 'Mahindra Xylo',\n",
       "       'BMW 5 Series', 'Hyundai i20 Magna', 'Jeep Compass Limited',\n",
       "       'Volkswagen Vento', 'Maruti Suzuki Ignis', 'Toyota Etios',\n",
       "       'Maruti Suzuki Celerio', 'Volkswagen Polo HIGHLINE1.2L',\n",
       "       'Mahindra Thar DI', 'Ford EcoSport Trend', 'Honda City 1.5',\n",
       "       'Mahindra e2o T2', 'Toyota Fortuner 4x4', 'Hyundai Xcent',\n",
       "       'Hyundai i20 Active', 'Hyundai Creta', 'Honda WR V', 'Skoda Rapid',\n",
       "       'Maruti Suzuki 800', 'Tata Nano', 'Tata Indica', 'Jaguar XJ L',\n",
       "       'Mercedes Benz GL', 'Maruti Suzuki Dzire', 'Hyundai Verna',\n",
       "       'Mercedes Benz C', 'Skoda Rapid Style', 'Maruti Suzuki Ertiga',\n",
       "       'Tata Indigo eCS', 'Mahindra TUV300', 'Toyota Fortuner',\n",
       "       'Ssangyong Rexton RX7', 'Mahindra TUV300 T8', 'Mahindra Bolero',\n",
       "       'Hyundai i10 Magna', 'Mahindra Scorpio', 'Ford Ikon',\n",
       "       'Renault Kwid RXT', 'Tata Hexa', 'Hyundai Santro', 'Hyundai Getz',\n",
       "       'Hyundai Santro Xing', 'Ford Figo', 'Toyota Fortuner 2.8',\n",
       "       'Mahindra Bolero ZLX', 'Fiat Linea Emotion', 'Tata Tiago',\n",
       "       'Toyota Glanza', 'Honda City V', 'Nissan Micra XE',\n",
       "       'Jaguar XF 2.2', 'Hyundai Verna Fluidic', 'Renault Duster',\n",
       "       'Tata Tigor', 'Volkswagen Ameo', 'Chevrolet Beat LT',\n",
       "       'Tata Hexa XM', 'Toyota Corolla H5', 'Maruti Suzuki Maruti',\n",
       "       'Hyundai Xcent 1.2', 'Ford Figo 1.5', 'Toyota Innova 2.0',\n",
       "       'Renault Kwid CLIMBER', 'Ford EcoSport Ambiente', 'Kia Seltos GTX',\n",
       "       'Chevrolet Beat LS', 'Volkswagen Vento Highline', 'Audi Q7 35',\n",
       "       'Toyota Innova', 'Hyundai i20 Sportz', 'Maruti Suzuki Eeco',\n",
       "       'Hyundai Eon Era', 'Hyundai Venue S', 'Hyundai Santro 1.1',\n",
       "       'Renault Triber 1.0', 'Hyundai Verna SX',\n",
       "       'Volkswagen Polo Comfortline', 'Renault Triber RXT',\n",
       "       'Fiat Linea Dynamic', 'Honda City ZX', 'Volkswagen Polo GT',\n",
       "       'Maruti Suzuki XL6', 'Hyundai i10 Sportz', 'Mahindra Scorpio LX',\n",
       "       'Toyota Etios Liva', 'Tata Aria Prestige', 'Renault Kwid RxL',\n",
       "       'Maruti Suzuki Ritz', 'Hyundai Getz GLS', 'Honda Amaze 1.5',\n",
       "       'Maruti Suzuki Zen', 'Renault Captur', 'Honda Brio',\n",
       "       'Hyundai EON D', 'Skoda Rapid 1.5', 'Renault Duster 110PS',\n",
       "       'Chevrolet Aveo', 'Mahindra Scorpio S5', 'Ford Freestyle',\n",
       "       'Datsun Redi GO', 'Maruti Suzuki Omni', 'Datsun GO T',\n",
       "       'Mahindra Bolero B6', 'Honda Civic 1.8V', 'Ford Figo Diesel',\n",
       "       'Honda City SV', 'Honda CRV', 'Honda Amaze 1.2',\n",
       "       'Nissan Micra Active', 'Hyundai EON Era', 'Chevrolet Cruze LTZ',\n",
       "       'Renault Scala RxZ', 'Honda WRV VX', 'Tata Tiago Revotorq',\n",
       "       'Renault Duster 110', 'Mahindra Logan', 'Tata Indigo CS',\n",
       "       'Audi Q3', 'Hyundai Verna FLUIDIC', 'Renault Kwid RXL',\n",
       "       'Maruti Suzuki SX4', 'Tata Tiago XZA', 'Tata Indica Vista',\n",
       "       'Ford EcoSport', 'Toyota Etios GD', 'Hyundai Xcent S',\n",
       "       'Honda Jazz 1.2', 'Volkswagen Polo Highline',\n",
       "       'Mahindra Verito Executive', 'Hyundai EON', 'Toyota Etios V',\n",
       "       'BMW X5 xDrive30d', 'Kia Seltos HTX', 'Nissan Micra',\n",
       "       'Tata Nexon XZ', 'Mahindra KUV100 K4', 'Hyundai i20 Era',\n",
       "       'Mahindra Jeep CL', 'Maruti Suzuki Gypsy', 'Hyundai Santro ASTA',\n",
       "       'Hyundai Santa Fe', 'Audi Q5 2.0', 'Mercedes Benz GLE',\n",
       "       'Volvo XC60 D3', 'Volkswagen Polo COMFORTLINE',\n",
       "       'Mahindra Scorpio 2.6', 'Kia Sonet', 'Fiat Punto Emotion',\n",
       "       'Honda Accord 2.4', 'Nissan Terrano XV', 'Mahindra KUV100 K6',\n",
       "       'Mahindra Marazzo M6', 'Skoda Laura Ambition', 'Tata Harrier XZ',\n",
       "       'Mercedes Benz E', 'Tata Harrier', 'Hyundai Fluidic Verna',\n",
       "       'Chevrolet Sail 1.2', 'Ford Endeavor 4X4', 'Chevrolet Spark',\n",
       "       'Hyundai Santro GLS', 'Hyundai Creta 1.4', 'Tata Indigo LX',\n",
       "       'Chevrolet Optra', 'Honda BRV', 'Hyundai Accent',\n",
       "       'Toyota Glanza G', 'Ford Figo Aspire', 'Renault Lodgy',\n",
       "       'Land Rover Range', 'Porsche Cayenne Select', 'Renault Pulse RxL',\n",
       "       'Hyundai i10 Era', 'Volkswagen Ameo Comfortline',\n",
       "       'Mahindra Jeep CL550', 'Kia Carnival', 'Chevrolet Beat',\n",
       "       'Tata Nano CNG', 'Mahindra Xylo D2'], dtype=object)"
      ]
     },
     "execution_count": 215,
     "metadata": {},
     "output_type": "execute_result"
    }
   ],
   "source": [
    "X[\"Name\"].unique()"
   ]
  },
  {
   "cell_type": "markdown",
   "id": "f77d23cc",
   "metadata": {},
   "source": [
    "## Fuel Price CheckStudy\n",
    "1. Ordinal/Nominal"
   ]
  },
  {
   "cell_type": "code",
   "execution_count": 216,
   "id": "128b0482",
   "metadata": {},
   "outputs": [],
   "source": [
    "fuel_check = df[[\"Price\" , \"Fuel_type\" ]]"
   ]
  },
  {
   "cell_type": "code",
   "execution_count": 217,
   "id": "bc8dac78",
   "metadata": {},
   "outputs": [],
   "source": [
    "fuel_group = fuel_check.groupby(\"Fuel_type\")"
   ]
  },
  {
   "cell_type": "code",
   "execution_count": 218,
   "id": "86984b1e",
   "metadata": {},
   "outputs": [],
   "source": [
    "fuel_check  = pd.DataFrame([X[\"Fuel_type\"] , y ]).T"
   ]
  },
  {
   "cell_type": "code",
   "execution_count": 219,
   "id": "f79b0d27",
   "metadata": {},
   "outputs": [],
   "source": [
    "fuel_group = fuel_check.groupby(\"Fuel_type\").mean()"
   ]
  },
  {
   "cell_type": "code",
   "execution_count": 220,
   "id": "75b8fda9",
   "metadata": {},
   "outputs": [
    {
     "data": {
      "text/html": [
       "<div>\n",
       "<style scoped>\n",
       "    .dataframe tbody tr th:only-of-type {\n",
       "        vertical-align: middle;\n",
       "    }\n",
       "\n",
       "    .dataframe tbody tr th {\n",
       "        vertical-align: top;\n",
       "    }\n",
       "\n",
       "    .dataframe thead th {\n",
       "        text-align: right;\n",
       "    }\n",
       "</style>\n",
       "<table border=\"1\" class=\"dataframe\">\n",
       "  <thead>\n",
       "    <tr style=\"text-align: right;\">\n",
       "      <th></th>\n",
       "      <th>Price</th>\n",
       "    </tr>\n",
       "    <tr>\n",
       "      <th>Fuel_type</th>\n",
       "      <th></th>\n",
       "    </tr>\n",
       "  </thead>\n",
       "  <tbody>\n",
       "    <tr>\n",
       "      <th>CNG</th>\n",
       "      <td>7.364280e+05</td>\n",
       "    </tr>\n",
       "    <tr>\n",
       "      <th>Diesel</th>\n",
       "      <td>9.560315e+05</td>\n",
       "    </tr>\n",
       "    <tr>\n",
       "      <th>Electric</th>\n",
       "      <td>1.860000e+06</td>\n",
       "    </tr>\n",
       "    <tr>\n",
       "      <th>Hybrid</th>\n",
       "      <td>5.900000e+05</td>\n",
       "    </tr>\n",
       "    <tr>\n",
       "      <th>LPG</th>\n",
       "      <td>2.400000e+05</td>\n",
       "    </tr>\n",
       "    <tr>\n",
       "      <th>Petrol</th>\n",
       "      <td>5.754681e+05</td>\n",
       "    </tr>\n",
       "    <tr>\n",
       "      <th>Petrol + CNG</th>\n",
       "      <td>4.522990e+05</td>\n",
       "    </tr>\n",
       "  </tbody>\n",
       "</table>\n",
       "</div>"
      ],
      "text/plain": [
       "                     Price\n",
       "Fuel_type                 \n",
       "CNG           7.364280e+05\n",
       "Diesel        9.560315e+05\n",
       "Electric      1.860000e+06\n",
       "Hybrid        5.900000e+05\n",
       "LPG           2.400000e+05\n",
       "Petrol        5.754681e+05\n",
       "Petrol + CNG  4.522990e+05"
      ]
     },
     "execution_count": 220,
     "metadata": {},
     "output_type": "execute_result"
    }
   ],
   "source": [
    "fuel_group"
   ]
  },
  {
   "cell_type": "code",
   "execution_count": 221,
   "id": "8a3a1d5c",
   "metadata": {},
   "outputs": [
    {
     "data": {
      "text/plain": [
       "<AxesSubplot:xlabel='Fuel_type'>"
      ]
     },
     "execution_count": 221,
     "metadata": {},
     "output_type": "execute_result"
    },
    {
     "data": {
      "image/png": "[encoded data removed]",
      "text/plain": [
       "<Figure size 720x432 with 1 Axes>"
      ]
     },
     "metadata": {
      "needs_background": "light"
     },
     "output_type": "display_data"
    }
   ],
   "source": [
    "fuel_group.plot(kind = \"bar\",figsize=(10,6))"
   ]
  },
  {
   "cell_type": "code",
   "execution_count": 222,
   "id": "54f91eb5",
   "metadata": {
    "scrolled": true
   },
   "outputs": [
    {
     "data": {
      "text/html": [
       "<div>\n",
       "<style scoped>\n",
       "    .dataframe tbody tr th:only-of-type {\n",
       "        vertical-align: middle;\n",
       "    }\n",
       "\n",
       "    .dataframe tbody tr th {\n",
       "        vertical-align: top;\n",
       "    }\n",
       "\n",
       "    .dataframe thead th {\n",
       "        text-align: right;\n",
       "    }\n",
       "</style>\n",
       "<table border=\"1\" class=\"dataframe\">\n",
       "  <thead>\n",
       "    <tr style=\"text-align: right;\">\n",
       "      <th></th>\n",
       "      <th>Name</th>\n",
       "      <th>Kms_driven</th>\n",
       "      <th>Fuel_type</th>\n",
       "      <th>Year</th>\n",
       "      <th>Company</th>\n",
       "      <th>State</th>\n",
       "    </tr>\n",
       "  </thead>\n",
       "  <tbody>\n",
       "    <tr>\n",
       "      <th>0</th>\n",
       "      <td>Ford Figo Duratec</td>\n",
       "      <td>35056</td>\n",
       "      <td>Petrol</td>\n",
       "      <td>2015</td>\n",
       "      <td>Ford</td>\n",
       "      <td>Karnataka</td>\n",
       "    </tr>\n",
       "    <tr>\n",
       "      <th>1</th>\n",
       "      <td>Maruti Suzuki Wagon</td>\n",
       "      <td>44000</td>\n",
       "      <td>Petrol</td>\n",
       "      <td>2016</td>\n",
       "      <td>Maruti</td>\n",
       "      <td>Karnataka</td>\n",
       "    </tr>\n",
       "    <tr>\n",
       "      <th>2</th>\n",
       "      <td>Hyundai Creta 1.6</td>\n",
       "      <td>42917</td>\n",
       "      <td>Petrol</td>\n",
       "      <td>2018</td>\n",
       "      <td>Hyundai</td>\n",
       "      <td>Karnataka</td>\n",
       "    </tr>\n",
       "    <tr>\n",
       "      <th>3</th>\n",
       "      <td>Hyundai Venue</td>\n",
       "      <td>16112</td>\n",
       "      <td>Petrol</td>\n",
       "      <td>2019</td>\n",
       "      <td>Hyundai</td>\n",
       "      <td>Tamil Nadu</td>\n",
       "    </tr>\n",
       "    <tr>\n",
       "      <th>4</th>\n",
       "      <td>Honda Jazz</td>\n",
       "      <td>30988</td>\n",
       "      <td>Petrol</td>\n",
       "      <td>2017</td>\n",
       "      <td>Honda</td>\n",
       "      <td>Maharashtra</td>\n",
       "    </tr>\n",
       "  </tbody>\n",
       "</table>\n",
       "</div>"
      ],
      "text/plain": [
       "                  Name  Kms_driven Fuel_type  Year  Company        State\n",
       "0    Ford Figo Duratec       35056    Petrol  2015     Ford    Karnataka\n",
       "1  Maruti Suzuki Wagon       44000    Petrol  2016   Maruti    Karnataka\n",
       "2    Hyundai Creta 1.6       42917    Petrol  2018  Hyundai    Karnataka\n",
       "3        Hyundai Venue       16112    Petrol  2019  Hyundai   Tamil Nadu\n",
       "4           Honda Jazz       30988    Petrol  2017    Honda  Maharashtra"
      ]
     },
     "execution_count": 222,
     "metadata": {},
     "output_type": "execute_result"
    }
   ],
   "source": [
    "X.head(5)"
   ]
  },
  {
   "cell_type": "code",
   "execution_count": 223,
   "id": "787cbcb0",
   "metadata": {},
   "outputs": [],
   "source": [
    "from sklearn.preprocessing import OneHotEncoder\n",
    "from sklearn.compose import make_column_transformer\n",
    "from sklearn.pipeline import make_pipeline\n",
    "from sklearn.metrics import r2_score"
   ]
  },
  {
   "cell_type": "markdown",
   "id": "ee33c2d8",
   "metadata": {},
   "source": [
    "## Model Building"
   ]
  },
  {
   "cell_type": "markdown",
   "id": "847bd71c",
   "metadata": {},
   "source": [
    "### Test - Train Split"
   ]
  },
  {
   "cell_type": "code",
   "execution_count": 224,
   "id": "e8b72c26",
   "metadata": {},
   "outputs": [
    {
     "data": {
      "text/html": [
       "<div>\n",
       "<style scoped>\n",
       "    .dataframe tbody tr th:only-of-type {\n",
       "        vertical-align: middle;\n",
       "    }\n",
       "\n",
       "    .dataframe tbody tr th {\n",
       "        vertical-align: top;\n",
       "    }\n",
       "\n",
       "    .dataframe thead th {\n",
       "        text-align: right;\n",
       "    }\n",
       "</style>\n",
       "<table border=\"1\" class=\"dataframe\">\n",
       "  <thead>\n",
       "    <tr style=\"text-align: right;\">\n",
       "      <th></th>\n",
       "      <th>Name</th>\n",
       "      <th>Kms_driven</th>\n",
       "      <th>Fuel_type</th>\n",
       "      <th>Year</th>\n",
       "      <th>Company</th>\n",
       "      <th>State</th>\n",
       "    </tr>\n",
       "  </thead>\n",
       "  <tbody>\n",
       "    <tr>\n",
       "      <th>0</th>\n",
       "      <td>Ford Figo Duratec</td>\n",
       "      <td>35056</td>\n",
       "      <td>Petrol</td>\n",
       "      <td>2015</td>\n",
       "      <td>Ford</td>\n",
       "      <td>Karnataka</td>\n",
       "    </tr>\n",
       "    <tr>\n",
       "      <th>1</th>\n",
       "      <td>Maruti Suzuki Wagon</td>\n",
       "      <td>44000</td>\n",
       "      <td>Petrol</td>\n",
       "      <td>2016</td>\n",
       "      <td>Maruti</td>\n",
       "      <td>Karnataka</td>\n",
       "    </tr>\n",
       "  </tbody>\n",
       "</table>\n",
       "</div>"
      ],
      "text/plain": [
       "                  Name  Kms_driven Fuel_type  Year Company      State\n",
       "0    Ford Figo Duratec       35056    Petrol  2015    Ford  Karnataka\n",
       "1  Maruti Suzuki Wagon       44000    Petrol  2016  Maruti  Karnataka"
      ]
     },
     "execution_count": 224,
     "metadata": {},
     "output_type": "execute_result"
    }
   ],
   "source": [
    "X.head(2)"
   ]
  },
  {
   "cell_type": "code",
   "execution_count": 225,
   "id": "e7a2687e",
   "metadata": {},
   "outputs": [],
   "source": [
    "#X = X.iloc[: , 0:5]"
   ]
  },
  {
   "cell_type": "code",
   "execution_count": 226,
   "id": "dd82dce5",
   "metadata": {},
   "outputs": [],
   "source": [
    "from sklearn.model_selection import train_test_split\n",
    "X_train, X_test, y_train, y_test = train_test_split(X, y, test_size=0.2)"
   ]
  },
  {
   "cell_type": "markdown",
   "id": "f65941bc",
   "metadata": {},
   "source": [
    "### Managing Categorical Values"
   ]
  },
  {
   "cell_type": "code",
   "execution_count": 227,
   "id": "0bb73d58",
   "metadata": {},
   "outputs": [],
   "source": [
    "from sklearn.preprocessing import OneHotEncoder\n",
    "from sklearn.compose import ColumnTransformer  #For Categorical Handling\n",
    "from sklearn.pipeline import make_pipeline  #For easy Handling \n",
    "from sklearn.metrics import r2_score\n",
    "\n",
    "from sklearn.preprocessing import StandardScaler,MinMaxScaler"
   ]
  },
  {
   "cell_type": "code",
   "execution_count": 319,
   "id": "eb93eda5",
   "metadata": {
    "scrolled": true
   },
   "outputs": [
    {
     "data": {
      "text/html": [
       "<style>#sk-container-id-28 {color: black;background-color: white;}#sk-container-id-28 pre{padding: 0;}#sk-container-id-28 div.sk-toggleable {background-color: white;}#sk-container-id-28 label.sk-toggleable__label {cursor: pointer;display: block;width: 100%;margin-bottom: 0;padding: 0.3em;box-sizing: border-box;text-align: center;}#sk-container-id-28 label.sk-toggleable__label-arrow:before {content: \"▸\";float: left;margin-right: 0.25em;color: #696969;}#sk-container-id-28 label.sk-toggleable__label-arrow:hover:before {color: black;}#sk-container-id-28 div.sk-estimator:hover label.sk-toggleable__label-arrow:before {color: black;}#sk-container-id-28 div.sk-toggleable__content {max-height: 0;max-width: 0;overflow: hidden;text-align: left;background-color: #f0f8ff;}#sk-container-id-28 div.sk-toggleable__content pre {margin: 0.2em;color: black;border-radius: 0.25em;background-color: #f0f8ff;}#sk-container-id-28 input.sk-toggleable__control:checked~div.sk-toggleable__content {max-height: 200px;max-width: 100%;overflow: auto;}#sk-container-id-28 input.sk-toggleable__control:checked~label.sk-toggleable__label-arrow:before {content: \"▾\";}#sk-container-id-28 div.sk-estimator input.sk-toggleable__control:checked~label.sk-toggleable__label {background-color: #d4ebff;}#sk-container-id-28 div.sk-label input.sk-toggleable__control:checked~label.sk-toggleable__label {background-color: #d4ebff;}#sk-container-id-28 input.sk-hidden--visually {border: 0;clip: rect(1px 1px 1px 1px);clip: rect(1px, 1px, 1px, 1px);height: 1px;margin: -1px;overflow: hidden;padding: 0;position: absolute;width: 1px;}#sk-container-id-28 div.sk-estimator {font-family: monospace;background-color: #f0f8ff;border: 1px dotted black;border-radius: 0.25em;box-sizing: border-box;margin-bottom: 0.5em;}#sk-container-id-28 div.sk-estimator:hover {background-color: #d4ebff;}#sk-container-id-28 div.sk-parallel-item::after {content: \"\";width: 100%;border-bottom: 1px solid gray;flex-grow: 1;}#sk-container-id-28 div.sk-label:hover label.sk-toggleable__label {background-color: #d4ebff;}#sk-container-id-28 div.sk-serial::before {content: \"\";position: absolute;border-left: 1px solid gray;box-sizing: border-box;top: 0;bottom: 0;left: 50%;z-index: 0;}#sk-container-id-28 div.sk-serial {display: flex;flex-direction: column;align-items: center;background-color: white;padding-right: 0.2em;padding-left: 0.2em;position: relative;}#sk-container-id-28 div.sk-item {position: relative;z-index: 1;}#sk-container-id-28 div.sk-parallel {display: flex;align-items: stretch;justify-content: center;background-color: white;position: relative;}#sk-container-id-28 div.sk-item::before, #sk-container-id-28 div.sk-parallel-item::before {content: \"\";position: absolute;border-left: 1px solid gray;box-sizing: border-box;top: 0;bottom: 0;left: 50%;z-index: -1;}#sk-container-id-28 div.sk-parallel-item {display: flex;flex-direction: column;z-index: 1;position: relative;background-color: white;}#sk-container-id-28 div.sk-parallel-item:first-child::after {align-self: flex-end;width: 50%;}#sk-container-id-28 div.sk-parallel-item:last-child::after {align-self: flex-start;width: 50%;}#sk-container-id-28 div.sk-parallel-item:only-child::after {width: 0;}#sk-container-id-28 div.sk-dashed-wrapped {border: 1px dashed gray;margin: 0 0.4em 0.5em 0.4em;box-sizing: border-box;padding-bottom: 0.4em;background-color: white;}#sk-container-id-28 div.sk-label label {font-family: monospace;font-weight: bold;display: inline-block;line-height: 1.2em;}#sk-container-id-28 div.sk-label-container {text-align: center;}#sk-container-id-28 div.sk-container {/* jupyter's `normalize.less` sets `[hidden] { display: none; }` but bootstrap.min.css set `[hidden] { display: none !important; }` so we also need the `!important` here to be able to override the default hidden behavior on the sphinx rendered scikit-learn.org. See: https://github.com/scikit-learn/scikit-learn/issues/21755 */display: inline-block !important;position: relative;}#sk-container-id-28 div.sk-text-repr-fallback {display: none;}</style><div id=\"sk-container-id-28\" class=\"sk-top-container\"><div class=\"sk-text-repr-fallback\"><pre>OneHotEncoder()</pre><b>In a Jupyter environment, please rerun this cell to show the HTML representation or trust the notebook. <br />On GitHub, the HTML representation is unable to render, please try loading this page with nbviewer.org.</b></div><div class=\"sk-container\" hidden><div class=\"sk-item\"><div class=\"sk-estimator sk-toggleable\"><input class=\"sk-toggleable__control sk-hidden--visually\" id=\"sk-estimator-id-158\" type=\"checkbox\" checked><label for=\"sk-estimator-id-158\" class=\"sk-toggleable__label sk-toggleable__label-arrow\">OneHotEncoder</label><div class=\"sk-toggleable__content\"><pre>OneHotEncoder()</pre></div></div></div></div></div>"
      ],
      "text/plain": [
       "OneHotEncoder()"
      ]
     },
     "execution_count": 319,
     "metadata": {},
     "output_type": "execute_result"
    }
   ],
   "source": [
    "ohe=OneHotEncoder()\n",
    "ohe.fit(X[['Name','Fuel_type','Company' , \"State\"]])\n"
   ]
  },
  {
   "cell_type": "code",
   "execution_count": 320,
   "id": "7b2fd942",
   "metadata": {},
   "outputs": [
    {
     "data": {
      "text/html": [
       "<style>#sk-container-id-29 {color: black;background-color: white;}#sk-container-id-29 pre{padding: 0;}#sk-container-id-29 div.sk-toggleable {background-color: white;}#sk-container-id-29 label.sk-toggleable__label {cursor: pointer;display: block;width: 100%;margin-bottom: 0;padding: 0.3em;box-sizing: border-box;text-align: center;}#sk-container-id-29 label.sk-toggleable__label-arrow:before {content: \"▸\";float: left;margin-right: 0.25em;color: #696969;}#sk-container-id-29 label.sk-toggleable__label-arrow:hover:before {color: black;}#sk-container-id-29 div.sk-estimator:hover label.sk-toggleable__label-arrow:before {color: black;}#sk-container-id-29 div.sk-toggleable__content {max-height: 0;max-width: 0;overflow: hidden;text-align: left;background-color: #f0f8ff;}#sk-container-id-29 div.sk-toggleable__content pre {margin: 0.2em;color: black;border-radius: 0.25em;background-color: #f0f8ff;}#sk-container-id-29 input.sk-toggleable__control:checked~div.sk-toggleable__content {max-height: 200px;max-width: 100%;overflow: auto;}#sk-container-id-29 input.sk-toggleable__control:checked~label.sk-toggleable__label-arrow:before {content: \"▾\";}#sk-container-id-29 div.sk-estimator input.sk-toggleable__control:checked~label.sk-toggleable__label {background-color: #d4ebff;}#sk-container-id-29 div.sk-label input.sk-toggleable__control:checked~label.sk-toggleable__label {background-color: #d4ebff;}#sk-container-id-29 input.sk-hidden--visually {border: 0;clip: rect(1px 1px 1px 1px);clip: rect(1px, 1px, 1px, 1px);height: 1px;margin: -1px;overflow: hidden;padding: 0;position: absolute;width: 1px;}#sk-container-id-29 div.sk-estimator {font-family: monospace;background-color: #f0f8ff;border: 1px dotted black;border-radius: 0.25em;box-sizing: border-box;margin-bottom: 0.5em;}#sk-container-id-29 div.sk-estimator:hover {background-color: #d4ebff;}#sk-container-id-29 div.sk-parallel-item::after {content: \"\";width: 100%;border-bottom: 1px solid gray;flex-grow: 1;}#sk-container-id-29 div.sk-label:hover label.sk-toggleable__label {background-color: #d4ebff;}#sk-container-id-29 div.sk-serial::before {content: \"\";position: absolute;border-left: 1px solid gray;box-sizing: border-box;top: 0;bottom: 0;left: 50%;z-index: 0;}#sk-container-id-29 div.sk-serial {display: flex;flex-direction: column;align-items: center;background-color: white;padding-right: 0.2em;padding-left: 0.2em;position: relative;}#sk-container-id-29 div.sk-item {position: relative;z-index: 1;}#sk-container-id-29 div.sk-parallel {display: flex;align-items: stretch;justify-content: center;background-color: white;position: relative;}#sk-container-id-29 div.sk-item::before, #sk-container-id-29 div.sk-parallel-item::before {content: \"\";position: absolute;border-left: 1px solid gray;box-sizing: border-box;top: 0;bottom: 0;left: 50%;z-index: -1;}#sk-container-id-29 div.sk-parallel-item {display: flex;flex-direction: column;z-index: 1;position: relative;background-color: white;}#sk-container-id-29 div.sk-parallel-item:first-child::after {align-self: flex-end;width: 50%;}#sk-container-id-29 div.sk-parallel-item:last-child::after {align-self: flex-start;width: 50%;}#sk-container-id-29 div.sk-parallel-item:only-child::after {width: 0;}#sk-container-id-29 div.sk-dashed-wrapped {border: 1px dashed gray;margin: 0 0.4em 0.5em 0.4em;box-sizing: border-box;padding-bottom: 0.4em;background-color: white;}#sk-container-id-29 div.sk-label label {font-family: monospace;font-weight: bold;display: inline-block;line-height: 1.2em;}#sk-container-id-29 div.sk-label-container {text-align: center;}#sk-container-id-29 div.sk-container {/* jupyter's `normalize.less` sets `[hidden] { display: none; }` but bootstrap.min.css set `[hidden] { display: none !important; }` so we also need the `!important` here to be able to override the default hidden behavior on the sphinx rendered scikit-learn.org. See: https://github.com/scikit-learn/scikit-learn/issues/21755 */display: inline-block !important;position: relative;}#sk-container-id-29 div.sk-text-repr-fallback {display: none;}</style><div id=\"sk-container-id-29\" class=\"sk-top-container\"><div class=\"sk-text-repr-fallback\"><pre>StandardScaler()</pre><b>In a Jupyter environment, please rerun this cell to show the HTML representation or trust the notebook. <br />On GitHub, the HTML representation is unable to render, please try loading this page with nbviewer.org.</b></div><div class=\"sk-container\" hidden><div class=\"sk-item\"><div class=\"sk-estimator sk-toggleable\"><input class=\"sk-toggleable__control sk-hidden--visually\" id=\"sk-estimator-id-159\" type=\"checkbox\" checked><label for=\"sk-estimator-id-159\" class=\"sk-toggleable__label sk-toggleable__label-arrow\">StandardScaler</label><div class=\"sk-toggleable__content\"><pre>StandardScaler()</pre></div></div></div></div></div>"
      ],
      "text/plain": [
       "StandardScaler()"
      ]
     },
     "execution_count": 320,
     "metadata": {},
     "output_type": "execute_result"
    }
   ],
   "source": [
    "scaler = StandardScaler() \n",
    "scaler.fit(X[[\"Kms_driven\" , \"Year\" ]])\n"
   ]
  },
  {
   "cell_type": "markdown",
   "id": "316f15ff",
   "metadata": {},
   "source": [
    "### Creating a column Transfer"
   ]
  },
  {
   "cell_type": "code",
   "execution_count": 321,
   "id": "2850e794",
   "metadata": {},
   "outputs": [],
   "source": [
    "numeric_features = [\"Kms_driven\" , \"Year\"]\n",
    "categorical_features = ['Name','Fuel_type','Company' , \"State\"]\n",
    "numeric_transformer = StandardScaler()\n",
    "categorical_transformer = OneHotEncoder(categories=ohe.categories_)\n"
   ]
  },
  {
   "cell_type": "code",
   "execution_count": 322,
   "id": "f53b5de3",
   "metadata": {},
   "outputs": [],
   "source": [
    "column_trans = ColumnTransformer(\n",
    "    transformers=[\n",
    "        (\"num\", numeric_transformer, numeric_features),\n",
    "        (\"cat\", categorical_transformer, categorical_features),\n",
    "    ], remainder='passthrough'\n",
    ")\n",
    "\n",
    "#Categories : To know all categories in Test as well as Train Thats why fit first to know all categories\n",
    "#Encoding will take place only of defined column in second Parameter\n",
    "#Remainder will pass trough all other columns"
   ]
  },
  {
   "cell_type": "markdown",
   "id": "35e262a3",
   "metadata": {},
   "source": [
    "### MODEL 1 : Linear Regression"
   ]
  },
  {
   "cell_type": "code",
   "execution_count": 352,
   "id": "e0cad11f",
   "metadata": {},
   "outputs": [],
   "source": [
    "from sklearn.linear_model import LinearRegression\n",
    "from sklearn.metrics import r2_score\n",
    "\n",
    "model1 = LinearRegression()"
   ]
  },
  {
   "cell_type": "code",
   "execution_count": 346,
   "id": "3ef1597d",
   "metadata": {},
   "outputs": [],
   "source": [
    "pipe=make_pipeline(column_trans,model1)"
   ]
  },
  {
   "cell_type": "code",
   "execution_count": 353,
   "id": "3051d8e6",
   "metadata": {},
   "outputs": [
    {
     "data": {
      "text/html": [
       "<style>#sk-container-id-35 {color: black;background-color: white;}#sk-container-id-35 pre{padding: 0;}#sk-container-id-35 div.sk-toggleable {background-color: white;}#sk-container-id-35 label.sk-toggleable__label {cursor: pointer;display: block;width: 100%;margin-bottom: 0;padding: 0.3em;box-sizing: border-box;text-align: center;}#sk-container-id-35 label.sk-toggleable__label-arrow:before {content: \"▸\";float: left;margin-right: 0.25em;color: #696969;}#sk-container-id-35 label.sk-toggleable__label-arrow:hover:before {color: black;}#sk-container-id-35 div.sk-estimator:hover label.sk-toggleable__label-arrow:before {color: black;}#sk-container-id-35 div.sk-toggleable__content {max-height: 0;max-width: 0;overflow: hidden;text-align: left;background-color: #f0f8ff;}#sk-container-id-35 div.sk-toggleable__content pre {margin: 0.2em;color: black;border-radius: 0.25em;background-color: #f0f8ff;}#sk-container-id-35 input.sk-toggleable__control:checked~div.sk-toggleable__content {max-height: 200px;max-width: 100%;overflow: auto;}#sk-container-id-35 input.sk-toggleable__control:checked~label.sk-toggleable__label-arrow:before {content: \"▾\";}#sk-container-id-35 div.sk-estimator input.sk-toggleable__control:checked~label.sk-toggleable__label {background-color: #d4ebff;}#sk-container-id-35 div.sk-label input.sk-toggleable__control:checked~label.sk-toggleable__label {background-color: #d4ebff;}#sk-container-id-35 input.sk-hidden--visually {border: 0;clip: rect(1px 1px 1px 1px);clip: rect(1px, 1px, 1px, 1px);height: 1px;margin: -1px;overflow: hidden;padding: 0;position: absolute;width: 1px;}#sk-container-id-35 div.sk-estimator {font-family: monospace;background-color: #f0f8ff;border: 1px dotted black;border-radius: 0.25em;box-sizing: border-box;margin-bottom: 0.5em;}#sk-container-id-35 div.sk-estimator:hover {background-color: #d4ebff;}#sk-container-id-35 div.sk-parallel-item::after {content: \"\";width: 100%;border-bottom: 1px solid gray;flex-grow: 1;}#sk-container-id-35 div.sk-label:hover label.sk-toggleable__label {background-color: #d4ebff;}#sk-container-id-35 div.sk-serial::before {content: \"\";position: absolute;border-left: 1px solid gray;box-sizing: border-box;top: 0;bottom: 0;left: 50%;z-index: 0;}#sk-container-id-35 div.sk-serial {display: flex;flex-direction: column;align-items: center;background-color: white;padding-right: 0.2em;padding-left: 0.2em;position: relative;}#sk-container-id-35 div.sk-item {position: relative;z-index: 1;}#sk-container-id-35 div.sk-parallel {display: flex;align-items: stretch;justify-content: center;background-color: white;position: relative;}#sk-container-id-35 div.sk-item::before, #sk-container-id-35 div.sk-parallel-item::before {content: \"\";position: absolute;border-left: 1px solid gray;box-sizing: border-box;top: 0;bottom: 0;left: 50%;z-index: -1;}#sk-container-id-35 div.sk-parallel-item {display: flex;flex-direction: column;z-index: 1;position: relative;background-color: white;}#sk-container-id-35 div.sk-parallel-item:first-child::after {align-self: flex-end;width: 50%;}#sk-container-id-35 div.sk-parallel-item:last-child::after {align-self: flex-start;width: 50%;}#sk-container-id-35 div.sk-parallel-item:only-child::after {width: 0;}#sk-container-id-35 div.sk-dashed-wrapped {border: 1px dashed gray;margin: 0 0.4em 0.5em 0.4em;box-sizing: border-box;padding-bottom: 0.4em;background-color: white;}#sk-container-id-35 div.sk-label label {font-family: monospace;font-weight: bold;display: inline-block;line-height: 1.2em;}#sk-container-id-35 div.sk-label-container {text-align: center;}#sk-container-id-35 div.sk-container {/* jupyter's `normalize.less` sets `[hidden] { display: none; }` but bootstrap.min.css set `[hidden] { display: none !important; }` so we also need the `!important` here to be able to override the default hidden behavior on the sphinx rendered scikit-learn.org. See: https://github.com/scikit-learn/scikit-learn/issues/21755 */display: inline-block !important;position: relative;}#sk-container-id-35 div.sk-text-repr-fallback {display: none;}</style><div id=\"sk-container-id-35\" class=\"sk-top-container\"><div class=\"sk-text-repr-fallback\"><pre>Pipeline(steps=[(&#x27;columntransformer&#x27;,\n",
       "                 ColumnTransformer(remainder=&#x27;passthrough&#x27;,\n",
       "                                   transformers=[(&#x27;num&#x27;, StandardScaler(),\n",
       "                                                  [&#x27;Kms_driven&#x27;, &#x27;Year&#x27;]),\n",
       "                                                 (&#x27;cat&#x27;,\n",
       "                                                  OneHotEncoder(categories=[array([&#x27;Audi Q3&#x27;, &#x27;Audi Q5 2.0&#x27;, &#x27;Audi Q7 3.0&#x27;, &#x27;Audi Q7 35&#x27;,\n",
       "       &#x27;BMW 3 Series&#x27;, &#x27;BMW 5 Series&#x27;, &#x27;BMW X5 xDrive30d&#x27;,\n",
       "       &#x27;Chevrolet Aveo&#x27;, &#x27;Chevrolet Beat&#x27;, &#x27;Chevrolet Beat LS&#x27;,\n",
       "       &#x27;Chevrolet Beat LT&#x27;, &#x27;Chevrolet Cruze...\n",
       "       &#x27;Ssangyong&#x27;, &#x27;Tata&#x27;, &#x27;Toyota&#x27;, &#x27;Volkswagen&#x27;, &#x27;Volvo&#x27;], dtype=object),\n",
       "                                                                            array([&#x27;Andhra Pradesh&#x27;, &#x27;Bihar&#x27;, &#x27;Chhattisgarh&#x27;, &#x27;Gujarat&#x27;, &#x27;Haryana&#x27;,\n",
       "       &#x27;Jharkhand&#x27;, &#x27;Karnataka&#x27;, &#x27;Kerala&#x27;, &#x27;Maharashtra&#x27;, &#x27;NCT of Delhi&#x27;,\n",
       "       &#x27;Odisha&#x27;, &#x27;Puducherry&#x27;, &#x27;Rajasthan&#x27;, &#x27;Tamil Nadu&#x27;, &#x27;Tripura&#x27;,\n",
       "       &#x27;Uttar Pradesh&#x27;, &#x27;West Bengal&#x27;], dtype=object)]),\n",
       "                                                  [&#x27;Name&#x27;, &#x27;Fuel_type&#x27;,\n",
       "                                                   &#x27;Company&#x27;, &#x27;State&#x27;])])),\n",
       "                (&#x27;linearregression&#x27;, LinearRegression())])</pre><b>In a Jupyter environment, please rerun this cell to show the HTML representation or trust the notebook. <br />On GitHub, the HTML representation is unable to render, please try loading this page with nbviewer.org.</b></div><div class=\"sk-container\" hidden><div class=\"sk-item sk-dashed-wrapped\"><div class=\"sk-label-container\"><div class=\"sk-label sk-toggleable\"><input class=\"sk-toggleable__control sk-hidden--visually\" id=\"sk-estimator-id-205\" type=\"checkbox\" ><label for=\"sk-estimator-id-205\" class=\"sk-toggleable__label sk-toggleable__label-arrow\">Pipeline</label><div class=\"sk-toggleable__content\"><pre>Pipeline(steps=[(&#x27;columntransformer&#x27;,\n",
       "                 ColumnTransformer(remainder=&#x27;passthrough&#x27;,\n",
       "                                   transformers=[(&#x27;num&#x27;, StandardScaler(),\n",
       "                                                  [&#x27;Kms_driven&#x27;, &#x27;Year&#x27;]),\n",
       "                                                 (&#x27;cat&#x27;,\n",
       "                                                  OneHotEncoder(categories=[array([&#x27;Audi Q3&#x27;, &#x27;Audi Q5 2.0&#x27;, &#x27;Audi Q7 3.0&#x27;, &#x27;Audi Q7 35&#x27;,\n",
       "       &#x27;BMW 3 Series&#x27;, &#x27;BMW 5 Series&#x27;, &#x27;BMW X5 xDrive30d&#x27;,\n",
       "       &#x27;Chevrolet Aveo&#x27;, &#x27;Chevrolet Beat&#x27;, &#x27;Chevrolet Beat LS&#x27;,\n",
       "       &#x27;Chevrolet Beat LT&#x27;, &#x27;Chevrolet Cruze...\n",
       "       &#x27;Ssangyong&#x27;, &#x27;Tata&#x27;, &#x27;Toyota&#x27;, &#x27;Volkswagen&#x27;, &#x27;Volvo&#x27;], dtype=object),\n",
       "                                                                            array([&#x27;Andhra Pradesh&#x27;, &#x27;Bihar&#x27;, &#x27;Chhattisgarh&#x27;, &#x27;Gujarat&#x27;, &#x27;Haryana&#x27;,\n",
       "       &#x27;Jharkhand&#x27;, &#x27;Karnataka&#x27;, &#x27;Kerala&#x27;, &#x27;Maharashtra&#x27;, &#x27;NCT of Delhi&#x27;,\n",
       "       &#x27;Odisha&#x27;, &#x27;Puducherry&#x27;, &#x27;Rajasthan&#x27;, &#x27;Tamil Nadu&#x27;, &#x27;Tripura&#x27;,\n",
       "       &#x27;Uttar Pradesh&#x27;, &#x27;West Bengal&#x27;], dtype=object)]),\n",
       "                                                  [&#x27;Name&#x27;, &#x27;Fuel_type&#x27;,\n",
       "                                                   &#x27;Company&#x27;, &#x27;State&#x27;])])),\n",
       "                (&#x27;linearregression&#x27;, LinearRegression())])</pre></div></div></div><div class=\"sk-serial\"><div class=\"sk-item sk-dashed-wrapped\"><div class=\"sk-label-container\"><div class=\"sk-label sk-toggleable\"><input class=\"sk-toggleable__control sk-hidden--visually\" id=\"sk-estimator-id-206\" type=\"checkbox\" ><label for=\"sk-estimator-id-206\" class=\"sk-toggleable__label sk-toggleable__label-arrow\">columntransformer: ColumnTransformer</label><div class=\"sk-toggleable__content\"><pre>ColumnTransformer(remainder=&#x27;passthrough&#x27;,\n",
       "                  transformers=[(&#x27;num&#x27;, StandardScaler(),\n",
       "                                 [&#x27;Kms_driven&#x27;, &#x27;Year&#x27;]),\n",
       "                                (&#x27;cat&#x27;,\n",
       "                                 OneHotEncoder(categories=[array([&#x27;Audi Q3&#x27;, &#x27;Audi Q5 2.0&#x27;, &#x27;Audi Q7 3.0&#x27;, &#x27;Audi Q7 35&#x27;,\n",
       "       &#x27;BMW 3 Series&#x27;, &#x27;BMW 5 Series&#x27;, &#x27;BMW X5 xDrive30d&#x27;,\n",
       "       &#x27;Chevrolet Aveo&#x27;, &#x27;Chevrolet Beat&#x27;, &#x27;Chevrolet Beat LS&#x27;,\n",
       "       &#x27;Chevrolet Beat LT&#x27;, &#x27;Chevrolet Cruze LTZ&#x27;, &#x27;Chevrolet Optra&#x27;,\n",
       "       &#x27;Chevrolet Sail 1...\n",
       "       &#x27;Maruti&#x27;, &#x27;Mercedes&#x27;, &#x27;Nissan&#x27;, &#x27;Porsche&#x27;, &#x27;Renault&#x27;, &#x27;Skoda&#x27;,\n",
       "       &#x27;Ssangyong&#x27;, &#x27;Tata&#x27;, &#x27;Toyota&#x27;, &#x27;Volkswagen&#x27;, &#x27;Volvo&#x27;], dtype=object),\n",
       "                                                           array([&#x27;Andhra Pradesh&#x27;, &#x27;Bihar&#x27;, &#x27;Chhattisgarh&#x27;, &#x27;Gujarat&#x27;, &#x27;Haryana&#x27;,\n",
       "       &#x27;Jharkhand&#x27;, &#x27;Karnataka&#x27;, &#x27;Kerala&#x27;, &#x27;Maharashtra&#x27;, &#x27;NCT of Delhi&#x27;,\n",
       "       &#x27;Odisha&#x27;, &#x27;Puducherry&#x27;, &#x27;Rajasthan&#x27;, &#x27;Tamil Nadu&#x27;, &#x27;Tripura&#x27;,\n",
       "       &#x27;Uttar Pradesh&#x27;, &#x27;West Bengal&#x27;], dtype=object)]),\n",
       "                                 [&#x27;Name&#x27;, &#x27;Fuel_type&#x27;, &#x27;Company&#x27;, &#x27;State&#x27;])])</pre></div></div></div><div class=\"sk-parallel\"><div class=\"sk-parallel-item\"><div class=\"sk-item\"><div class=\"sk-label-container\"><div class=\"sk-label sk-toggleable\"><input class=\"sk-toggleable__control sk-hidden--visually\" id=\"sk-estimator-id-207\" type=\"checkbox\" ><label for=\"sk-estimator-id-207\" class=\"sk-toggleable__label sk-toggleable__label-arrow\">num</label><div class=\"sk-toggleable__content\"><pre>[&#x27;Kms_driven&#x27;, &#x27;Year&#x27;]</pre></div></div></div><div class=\"sk-serial\"><div class=\"sk-item\"><div class=\"sk-estimator sk-toggleable\"><input class=\"sk-toggleable__control sk-hidden--visually\" id=\"sk-estimator-id-208\" type=\"checkbox\" ><label for=\"sk-estimator-id-208\" class=\"sk-toggleable__label sk-toggleable__label-arrow\">StandardScaler</label><div class=\"sk-toggleable__content\"><pre>StandardScaler()</pre></div></div></div></div></div></div><div class=\"sk-parallel-item\"><div class=\"sk-item\"><div class=\"sk-label-container\"><div class=\"sk-label sk-toggleable\"><input class=\"sk-toggleable__control sk-hidden--visually\" id=\"sk-estimator-id-209\" type=\"checkbox\" ><label for=\"sk-estimator-id-209\" class=\"sk-toggleable__label sk-toggleable__label-arrow\">cat</label><div class=\"sk-toggleable__content\"><pre>[&#x27;Name&#x27;, &#x27;Fuel_type&#x27;, &#x27;Company&#x27;, &#x27;State&#x27;]</pre></div></div></div><div class=\"sk-serial\"><div class=\"sk-item\"><div class=\"sk-estimator sk-toggleable\"><input class=\"sk-toggleable__control sk-hidden--visually\" id=\"sk-estimator-id-210\" type=\"checkbox\" ><label for=\"sk-estimator-id-210\" class=\"sk-toggleable__label sk-toggleable__label-arrow\">OneHotEncoder</label><div class=\"sk-toggleable__content\"><pre>OneHotEncoder(categories=[array([&#x27;Audi Q3&#x27;, &#x27;Audi Q5 2.0&#x27;, &#x27;Audi Q7 3.0&#x27;, &#x27;Audi Q7 35&#x27;,\n",
       "       &#x27;BMW 3 Series&#x27;, &#x27;BMW 5 Series&#x27;, &#x27;BMW X5 xDrive30d&#x27;,\n",
       "       &#x27;Chevrolet Aveo&#x27;, &#x27;Chevrolet Beat&#x27;, &#x27;Chevrolet Beat LS&#x27;,\n",
       "       &#x27;Chevrolet Beat LT&#x27;, &#x27;Chevrolet Cruze LTZ&#x27;, &#x27;Chevrolet Optra&#x27;,\n",
       "       &#x27;Chevrolet Sail 1.2&#x27;, &#x27;Chevrolet Spark&#x27;, &#x27;Datsun GO T&#x27;,\n",
       "       &#x27;Datsun Redi GO&#x27;, &#x27;Fiat Linea Dynamic&#x27;, &#x27;Fiat Linea Emotion&#x27;,\n",
       "       &#x27;Fiat Punto Emotion&#x27;, &#x27;Ford...\n",
       "       &#x27;Hyundai&#x27;, &#x27;Jaguar&#x27;, &#x27;Jeep&#x27;, &#x27;Kia&#x27;, &#x27;Land&#x27;, &#x27;MG&#x27;, &#x27;Mahindra&#x27;,\n",
       "       &#x27;Maruti&#x27;, &#x27;Mercedes&#x27;, &#x27;Nissan&#x27;, &#x27;Porsche&#x27;, &#x27;Renault&#x27;, &#x27;Skoda&#x27;,\n",
       "       &#x27;Ssangyong&#x27;, &#x27;Tata&#x27;, &#x27;Toyota&#x27;, &#x27;Volkswagen&#x27;, &#x27;Volvo&#x27;], dtype=object),\n",
       "                          array([&#x27;Andhra Pradesh&#x27;, &#x27;Bihar&#x27;, &#x27;Chhattisgarh&#x27;, &#x27;Gujarat&#x27;, &#x27;Haryana&#x27;,\n",
       "       &#x27;Jharkhand&#x27;, &#x27;Karnataka&#x27;, &#x27;Kerala&#x27;, &#x27;Maharashtra&#x27;, &#x27;NCT of Delhi&#x27;,\n",
       "       &#x27;Odisha&#x27;, &#x27;Puducherry&#x27;, &#x27;Rajasthan&#x27;, &#x27;Tamil Nadu&#x27;, &#x27;Tripura&#x27;,\n",
       "       &#x27;Uttar Pradesh&#x27;, &#x27;West Bengal&#x27;], dtype=object)])</pre></div></div></div></div></div></div><div class=\"sk-parallel-item\"><div class=\"sk-item\"><div class=\"sk-label-container\"><div class=\"sk-label sk-toggleable\"><input class=\"sk-toggleable__control sk-hidden--visually\" id=\"sk-estimator-id-211\" type=\"checkbox\" ><label for=\"sk-estimator-id-211\" class=\"sk-toggleable__label sk-toggleable__label-arrow\">remainder</label><div class=\"sk-toggleable__content\"><pre>[]</pre></div></div></div><div class=\"sk-serial\"><div class=\"sk-item\"><div class=\"sk-estimator sk-toggleable\"><input class=\"sk-toggleable__control sk-hidden--visually\" id=\"sk-estimator-id-212\" type=\"checkbox\" ><label for=\"sk-estimator-id-212\" class=\"sk-toggleable__label sk-toggleable__label-arrow\">passthrough</label><div class=\"sk-toggleable__content\"><pre>passthrough</pre></div></div></div></div></div></div></div></div><div class=\"sk-item\"><div class=\"sk-estimator sk-toggleable\"><input class=\"sk-toggleable__control sk-hidden--visually\" id=\"sk-estimator-id-213\" type=\"checkbox\" ><label for=\"sk-estimator-id-213\" class=\"sk-toggleable__label sk-toggleable__label-arrow\">LinearRegression</label><div class=\"sk-toggleable__content\"><pre>LinearRegression()</pre></div></div></div></div></div></div></div>"
      ],
      "text/plain": [
       "Pipeline(steps=[('columntransformer',\n",
       "                 ColumnTransformer(remainder='passthrough',\n",
       "                                   transformers=[('num', StandardScaler(),\n",
       "                                                  ['Kms_driven', 'Year']),\n",
       "                                                 ('cat',\n",
       "                                                  OneHotEncoder(categories=[array(['Audi Q3', 'Audi Q5 2.0', 'Audi Q7 3.0', 'Audi Q7 35',\n",
       "       'BMW 3 Series', 'BMW 5 Series', 'BMW X5 xDrive30d',\n",
       "       'Chevrolet Aveo', 'Chevrolet Beat', 'Chevrolet Beat LS',\n",
       "       'Chevrolet Beat LT', 'Chevrolet Cruze...\n",
       "       'Ssangyong', 'Tata', 'Toyota', 'Volkswagen', 'Volvo'], dtype=object),\n",
       "                                                                            array(['Andhra Pradesh', 'Bihar', 'Chhattisgarh', 'Gujarat', 'Haryana',\n",
       "       'Jharkhand', 'Karnataka', 'Kerala', 'Maharashtra', 'NCT of Delhi',\n",
       "       'Odisha', 'Puducherry', 'Rajasthan', 'Tamil Nadu', 'Tripura',\n",
       "       'Uttar Pradesh', 'West Bengal'], dtype=object)]),\n",
       "                                                  ['Name', 'Fuel_type',\n",
       "                                                   'Company', 'State'])])),\n",
       "                ('linearregression', LinearRegression())])"
      ]
     },
     "execution_count": 353,
     "metadata": {},
     "output_type": "execute_result"
    }
   ],
   "source": [
    "pipe.fit(X_train,y_train)"
   ]
  },
  {
   "cell_type": "code",
   "execution_count": 354,
   "id": "e9cad98d",
   "metadata": {},
   "outputs": [],
   "source": [
    "y_pred = pipe.predict(X_test)"
   ]
  },
  {
   "cell_type": "code",
   "execution_count": 355,
   "id": "3fac6c4f",
   "metadata": {},
   "outputs": [
    {
     "name": "stdout",
     "output_type": "stream",
     "text": [
      "R2 score : 0.5961028522532452\n"
     ]
    }
   ],
   "source": [
    "print(\"R2 score :\" ,r2_score(y_pred , y_test))"
   ]
  },
  {
   "cell_type": "markdown",
   "id": "d9c3796b",
   "metadata": {},
   "source": [
    "### DEFINIG EVERYTHING IN LOOP"
   ]
  },
  {
   "cell_type": "code",
   "execution_count": 350,
   "id": "11af33fa",
   "metadata": {},
   "outputs": [],
   "source": [
    "r2=[]\n",
    "for i in range(2000):\n",
    "    X_train, X_test, y_train, y_test = train_test_split(X, y, test_size=0.2 , random_state=i)\n",
    "    pipe.fit(X_train,y_train)\n",
    "    y_pred = pipe.predict(X_test)\n",
    "    r2.append(r2_score(y_pred , y_test))\n",
    "    #print(\"R2 score :\" ,r2_score(y_pred , y_test))\n"
   ]
  },
  {
   "cell_type": "code",
   "execution_count": 357,
   "id": "6b26a0e3",
   "metadata": {},
   "outputs": [
    {
     "name": "stdout",
     "output_type": "stream",
     "text": [
      "Model Accuracy 0.85962510233633 Random State: 1071\n"
     ]
    }
   ],
   "source": [
    "print (\"Model Accuracy\" , max(r2) ,\"Random State:\", np.argmax(r2)) "
   ]
  },
  {
   "cell_type": "markdown",
   "id": "1dc508a8",
   "metadata": {},
   "source": [
    "### Model 2 : Decision Tree Regressor"
   ]
  },
  {
   "cell_type": "code",
   "execution_count": 301,
   "id": "02ba5a53",
   "metadata": {},
   "outputs": [],
   "source": [
    "from sklearn.tree import DecisionTreeRegressor\n",
    "model2 = DecisionTreeRegressor(max_depth = 40)\n"
   ]
  },
  {
   "cell_type": "code",
   "execution_count": 302,
   "id": "7b1b8879",
   "metadata": {},
   "outputs": [],
   "source": [
    "pipe2=make_pipeline(column_trans,model2)"
   ]
  },
  {
   "cell_type": "code",
   "execution_count": 303,
   "id": "6a35d905",
   "metadata": {},
   "outputs": [
    {
     "data": {
      "text/html": [
       "<style>#sk-container-id-26 {color: black;background-color: white;}#sk-container-id-26 pre{padding: 0;}#sk-container-id-26 div.sk-toggleable {background-color: white;}#sk-container-id-26 label.sk-toggleable__label {cursor: pointer;display: block;width: 100%;margin-bottom: 0;padding: 0.3em;box-sizing: border-box;text-align: center;}#sk-container-id-26 label.sk-toggleable__label-arrow:before {content: \"▸\";float: left;margin-right: 0.25em;color: #696969;}#sk-container-id-26 label.sk-toggleable__label-arrow:hover:before {color: black;}#sk-container-id-26 div.sk-estimator:hover label.sk-toggleable__label-arrow:before {color: black;}#sk-container-id-26 div.sk-toggleable__content {max-height: 0;max-width: 0;overflow: hidden;text-align: left;background-color: #f0f8ff;}#sk-container-id-26 div.sk-toggleable__content pre {margin: 0.2em;color: black;border-radius: 0.25em;background-color: #f0f8ff;}#sk-container-id-26 input.sk-toggleable__control:checked~div.sk-toggleable__content {max-height: 200px;max-width: 100%;overflow: auto;}#sk-container-id-26 input.sk-toggleable__control:checked~label.sk-toggleable__label-arrow:before {content: \"▾\";}#sk-container-id-26 div.sk-estimator input.sk-toggleable__control:checked~label.sk-toggleable__label {background-color: #d4ebff;}#sk-container-id-26 div.sk-label input.sk-toggleable__control:checked~label.sk-toggleable__label {background-color: #d4ebff;}#sk-container-id-26 input.sk-hidden--visually {border: 0;clip: rect(1px 1px 1px 1px);clip: rect(1px, 1px, 1px, 1px);height: 1px;margin: -1px;overflow: hidden;padding: 0;position: absolute;width: 1px;}#sk-container-id-26 div.sk-estimator {font-family: monospace;background-color: #f0f8ff;border: 1px dotted black;border-radius: 0.25em;box-sizing: border-box;margin-bottom: 0.5em;}#sk-container-id-26 div.sk-estimator:hover {background-color: #d4ebff;}#sk-container-id-26 div.sk-parallel-item::after {content: \"\";width: 100%;border-bottom: 1px solid gray;flex-grow: 1;}#sk-container-id-26 div.sk-label:hover label.sk-toggleable__label {background-color: #d4ebff;}#sk-container-id-26 div.sk-serial::before {content: \"\";position: absolute;border-left: 1px solid gray;box-sizing: border-box;top: 0;bottom: 0;left: 50%;z-index: 0;}#sk-container-id-26 div.sk-serial {display: flex;flex-direction: column;align-items: center;background-color: white;padding-right: 0.2em;padding-left: 0.2em;position: relative;}#sk-container-id-26 div.sk-item {position: relative;z-index: 1;}#sk-container-id-26 div.sk-parallel {display: flex;align-items: stretch;justify-content: center;background-color: white;position: relative;}#sk-container-id-26 div.sk-item::before, #sk-container-id-26 div.sk-parallel-item::before {content: \"\";position: absolute;border-left: 1px solid gray;box-sizing: border-box;top: 0;bottom: 0;left: 50%;z-index: -1;}#sk-container-id-26 div.sk-parallel-item {display: flex;flex-direction: column;z-index: 1;position: relative;background-color: white;}#sk-container-id-26 div.sk-parallel-item:first-child::after {align-self: flex-end;width: 50%;}#sk-container-id-26 div.sk-parallel-item:last-child::after {align-self: flex-start;width: 50%;}#sk-container-id-26 div.sk-parallel-item:only-child::after {width: 0;}#sk-container-id-26 div.sk-dashed-wrapped {border: 1px dashed gray;margin: 0 0.4em 0.5em 0.4em;box-sizing: border-box;padding-bottom: 0.4em;background-color: white;}#sk-container-id-26 div.sk-label label {font-family: monospace;font-weight: bold;display: inline-block;line-height: 1.2em;}#sk-container-id-26 div.sk-label-container {text-align: center;}#sk-container-id-26 div.sk-container {/* jupyter's `normalize.less` sets `[hidden] { display: none; }` but bootstrap.min.css set `[hidden] { display: none !important; }` so we also need the `!important` here to be able to override the default hidden behavior on the sphinx rendered scikit-learn.org. See: https://github.com/scikit-learn/scikit-learn/issues/21755 */display: inline-block !important;position: relative;}#sk-container-id-26 div.sk-text-repr-fallback {display: none;}</style><div id=\"sk-container-id-26\" class=\"sk-top-container\"><div class=\"sk-text-repr-fallback\"><pre>Pipeline(steps=[(&#x27;columntransformer&#x27;,\n",
       "                 ColumnTransformer(remainder=&#x27;passthrough&#x27;,\n",
       "                                   transformers=[(&#x27;num&#x27;, MinMaxScaler(),\n",
       "                                                  [&#x27;Kms_driven&#x27;, &#x27;Year&#x27;]),\n",
       "                                                 (&#x27;cat&#x27;,\n",
       "                                                  OneHotEncoder(categories=[array([&#x27;Audi Q3&#x27;, &#x27;Audi Q5 2.0&#x27;, &#x27;Audi Q7 3.0&#x27;, &#x27;Audi Q7 35&#x27;,\n",
       "       &#x27;BMW 3 Series&#x27;, &#x27;BMW 5 Series&#x27;, &#x27;BMW X5 xDrive30d&#x27;,\n",
       "       &#x27;Chevrolet Aveo&#x27;, &#x27;Chevrolet Beat&#x27;, &#x27;Chevrolet Beat LS&#x27;,\n",
       "       &#x27;Chevrolet Beat LT&#x27;, &#x27;Chevrolet Cruze LT...\n",
       "       &#x27;Ssangyong&#x27;, &#x27;Tata&#x27;, &#x27;Toyota&#x27;, &#x27;Volkswagen&#x27;, &#x27;Volvo&#x27;], dtype=object),\n",
       "                                                                            array([&#x27;Andhra Pradesh&#x27;, &#x27;Bihar&#x27;, &#x27;Chhattisgarh&#x27;, &#x27;Gujarat&#x27;, &#x27;Haryana&#x27;,\n",
       "       &#x27;Jharkhand&#x27;, &#x27;Karnataka&#x27;, &#x27;Kerala&#x27;, &#x27;Maharashtra&#x27;, &#x27;NCT of Delhi&#x27;,\n",
       "       &#x27;Odisha&#x27;, &#x27;Puducherry&#x27;, &#x27;Rajasthan&#x27;, &#x27;Tamil Nadu&#x27;, &#x27;Tripura&#x27;,\n",
       "       &#x27;Uttar Pradesh&#x27;, &#x27;West Bengal&#x27;], dtype=object)]),\n",
       "                                                  [&#x27;Name&#x27;, &#x27;Fuel_type&#x27;,\n",
       "                                                   &#x27;Company&#x27;, &#x27;State&#x27;])])),\n",
       "                (&#x27;decisiontreeregressor&#x27;, DecisionTreeRegressor(max_depth=40))])</pre><b>In a Jupyter environment, please rerun this cell to show the HTML representation or trust the notebook. <br />On GitHub, the HTML representation is unable to render, please try loading this page with nbviewer.org.</b></div><div class=\"sk-container\" hidden><div class=\"sk-item sk-dashed-wrapped\"><div class=\"sk-label-container\"><div class=\"sk-label sk-toggleable\"><input class=\"sk-toggleable__control sk-hidden--visually\" id=\"sk-estimator-id-140\" type=\"checkbox\" ><label for=\"sk-estimator-id-140\" class=\"sk-toggleable__label sk-toggleable__label-arrow\">Pipeline</label><div class=\"sk-toggleable__content\"><pre>Pipeline(steps=[(&#x27;columntransformer&#x27;,\n",
       "                 ColumnTransformer(remainder=&#x27;passthrough&#x27;,\n",
       "                                   transformers=[(&#x27;num&#x27;, MinMaxScaler(),\n",
       "                                                  [&#x27;Kms_driven&#x27;, &#x27;Year&#x27;]),\n",
       "                                                 (&#x27;cat&#x27;,\n",
       "                                                  OneHotEncoder(categories=[array([&#x27;Audi Q3&#x27;, &#x27;Audi Q5 2.0&#x27;, &#x27;Audi Q7 3.0&#x27;, &#x27;Audi Q7 35&#x27;,\n",
       "       &#x27;BMW 3 Series&#x27;, &#x27;BMW 5 Series&#x27;, &#x27;BMW X5 xDrive30d&#x27;,\n",
       "       &#x27;Chevrolet Aveo&#x27;, &#x27;Chevrolet Beat&#x27;, &#x27;Chevrolet Beat LS&#x27;,\n",
       "       &#x27;Chevrolet Beat LT&#x27;, &#x27;Chevrolet Cruze LT...\n",
       "       &#x27;Ssangyong&#x27;, &#x27;Tata&#x27;, &#x27;Toyota&#x27;, &#x27;Volkswagen&#x27;, &#x27;Volvo&#x27;], dtype=object),\n",
       "                                                                            array([&#x27;Andhra Pradesh&#x27;, &#x27;Bihar&#x27;, &#x27;Chhattisgarh&#x27;, &#x27;Gujarat&#x27;, &#x27;Haryana&#x27;,\n",
       "       &#x27;Jharkhand&#x27;, &#x27;Karnataka&#x27;, &#x27;Kerala&#x27;, &#x27;Maharashtra&#x27;, &#x27;NCT of Delhi&#x27;,\n",
       "       &#x27;Odisha&#x27;, &#x27;Puducherry&#x27;, &#x27;Rajasthan&#x27;, &#x27;Tamil Nadu&#x27;, &#x27;Tripura&#x27;,\n",
       "       &#x27;Uttar Pradesh&#x27;, &#x27;West Bengal&#x27;], dtype=object)]),\n",
       "                                                  [&#x27;Name&#x27;, &#x27;Fuel_type&#x27;,\n",
       "                                                   &#x27;Company&#x27;, &#x27;State&#x27;])])),\n",
       "                (&#x27;decisiontreeregressor&#x27;, DecisionTreeRegressor(max_depth=40))])</pre></div></div></div><div class=\"sk-serial\"><div class=\"sk-item sk-dashed-wrapped\"><div class=\"sk-label-container\"><div class=\"sk-label sk-toggleable\"><input class=\"sk-toggleable__control sk-hidden--visually\" id=\"sk-estimator-id-141\" type=\"checkbox\" ><label for=\"sk-estimator-id-141\" class=\"sk-toggleable__label sk-toggleable__label-arrow\">columntransformer: ColumnTransformer</label><div class=\"sk-toggleable__content\"><pre>ColumnTransformer(remainder=&#x27;passthrough&#x27;,\n",
       "                  transformers=[(&#x27;num&#x27;, MinMaxScaler(), [&#x27;Kms_driven&#x27;, &#x27;Year&#x27;]),\n",
       "                                (&#x27;cat&#x27;,\n",
       "                                 OneHotEncoder(categories=[array([&#x27;Audi Q3&#x27;, &#x27;Audi Q5 2.0&#x27;, &#x27;Audi Q7 3.0&#x27;, &#x27;Audi Q7 35&#x27;,\n",
       "       &#x27;BMW 3 Series&#x27;, &#x27;BMW 5 Series&#x27;, &#x27;BMW X5 xDrive30d&#x27;,\n",
       "       &#x27;Chevrolet Aveo&#x27;, &#x27;Chevrolet Beat&#x27;, &#x27;Chevrolet Beat LS&#x27;,\n",
       "       &#x27;Chevrolet Beat LT&#x27;, &#x27;Chevrolet Cruze LTZ&#x27;, &#x27;Chevrolet Optra&#x27;,\n",
       "       &#x27;Chevrolet Sail 1.2...\n",
       "       &#x27;Maruti&#x27;, &#x27;Mercedes&#x27;, &#x27;Nissan&#x27;, &#x27;Porsche&#x27;, &#x27;Renault&#x27;, &#x27;Skoda&#x27;,\n",
       "       &#x27;Ssangyong&#x27;, &#x27;Tata&#x27;, &#x27;Toyota&#x27;, &#x27;Volkswagen&#x27;, &#x27;Volvo&#x27;], dtype=object),\n",
       "                                                           array([&#x27;Andhra Pradesh&#x27;, &#x27;Bihar&#x27;, &#x27;Chhattisgarh&#x27;, &#x27;Gujarat&#x27;, &#x27;Haryana&#x27;,\n",
       "       &#x27;Jharkhand&#x27;, &#x27;Karnataka&#x27;, &#x27;Kerala&#x27;, &#x27;Maharashtra&#x27;, &#x27;NCT of Delhi&#x27;,\n",
       "       &#x27;Odisha&#x27;, &#x27;Puducherry&#x27;, &#x27;Rajasthan&#x27;, &#x27;Tamil Nadu&#x27;, &#x27;Tripura&#x27;,\n",
       "       &#x27;Uttar Pradesh&#x27;, &#x27;West Bengal&#x27;], dtype=object)]),\n",
       "                                 [&#x27;Name&#x27;, &#x27;Fuel_type&#x27;, &#x27;Company&#x27;, &#x27;State&#x27;])])</pre></div></div></div><div class=\"sk-parallel\"><div class=\"sk-parallel-item\"><div class=\"sk-item\"><div class=\"sk-label-container\"><div class=\"sk-label sk-toggleable\"><input class=\"sk-toggleable__control sk-hidden--visually\" id=\"sk-estimator-id-142\" type=\"checkbox\" ><label for=\"sk-estimator-id-142\" class=\"sk-toggleable__label sk-toggleable__label-arrow\">num</label><div class=\"sk-toggleable__content\"><pre>[&#x27;Kms_driven&#x27;, &#x27;Year&#x27;]</pre></div></div></div><div class=\"sk-serial\"><div class=\"sk-item\"><div class=\"sk-estimator sk-toggleable\"><input class=\"sk-toggleable__control sk-hidden--visually\" id=\"sk-estimator-id-143\" type=\"checkbox\" ><label for=\"sk-estimator-id-143\" class=\"sk-toggleable__label sk-toggleable__label-arrow\">MinMaxScaler</label><div class=\"sk-toggleable__content\"><pre>MinMaxScaler()</pre></div></div></div></div></div></div><div class=\"sk-parallel-item\"><div class=\"sk-item\"><div class=\"sk-label-container\"><div class=\"sk-label sk-toggleable\"><input class=\"sk-toggleable__control sk-hidden--visually\" id=\"sk-estimator-id-144\" type=\"checkbox\" ><label for=\"sk-estimator-id-144\" class=\"sk-toggleable__label sk-toggleable__label-arrow\">cat</label><div class=\"sk-toggleable__content\"><pre>[&#x27;Name&#x27;, &#x27;Fuel_type&#x27;, &#x27;Company&#x27;, &#x27;State&#x27;]</pre></div></div></div><div class=\"sk-serial\"><div class=\"sk-item\"><div class=\"sk-estimator sk-toggleable\"><input class=\"sk-toggleable__control sk-hidden--visually\" id=\"sk-estimator-id-145\" type=\"checkbox\" ><label for=\"sk-estimator-id-145\" class=\"sk-toggleable__label sk-toggleable__label-arrow\">OneHotEncoder</label><div class=\"sk-toggleable__content\"><pre>OneHotEncoder(categories=[array([&#x27;Audi Q3&#x27;, &#x27;Audi Q5 2.0&#x27;, &#x27;Audi Q7 3.0&#x27;, &#x27;Audi Q7 35&#x27;,\n",
       "       &#x27;BMW 3 Series&#x27;, &#x27;BMW 5 Series&#x27;, &#x27;BMW X5 xDrive30d&#x27;,\n",
       "       &#x27;Chevrolet Aveo&#x27;, &#x27;Chevrolet Beat&#x27;, &#x27;Chevrolet Beat LS&#x27;,\n",
       "       &#x27;Chevrolet Beat LT&#x27;, &#x27;Chevrolet Cruze LTZ&#x27;, &#x27;Chevrolet Optra&#x27;,\n",
       "       &#x27;Chevrolet Sail 1.2&#x27;, &#x27;Chevrolet Spark&#x27;, &#x27;Datsun GO T&#x27;,\n",
       "       &#x27;Datsun Redi GO&#x27;, &#x27;Fiat Linea Dynamic&#x27;, &#x27;Fiat Linea Emotion&#x27;,\n",
       "       &#x27;Fiat Punto Emotion&#x27;, &#x27;Ford...\n",
       "       &#x27;Hyundai&#x27;, &#x27;Jaguar&#x27;, &#x27;Jeep&#x27;, &#x27;Kia&#x27;, &#x27;Land&#x27;, &#x27;MG&#x27;, &#x27;Mahindra&#x27;,\n",
       "       &#x27;Maruti&#x27;, &#x27;Mercedes&#x27;, &#x27;Nissan&#x27;, &#x27;Porsche&#x27;, &#x27;Renault&#x27;, &#x27;Skoda&#x27;,\n",
       "       &#x27;Ssangyong&#x27;, &#x27;Tata&#x27;, &#x27;Toyota&#x27;, &#x27;Volkswagen&#x27;, &#x27;Volvo&#x27;], dtype=object),\n",
       "                          array([&#x27;Andhra Pradesh&#x27;, &#x27;Bihar&#x27;, &#x27;Chhattisgarh&#x27;, &#x27;Gujarat&#x27;, &#x27;Haryana&#x27;,\n",
       "       &#x27;Jharkhand&#x27;, &#x27;Karnataka&#x27;, &#x27;Kerala&#x27;, &#x27;Maharashtra&#x27;, &#x27;NCT of Delhi&#x27;,\n",
       "       &#x27;Odisha&#x27;, &#x27;Puducherry&#x27;, &#x27;Rajasthan&#x27;, &#x27;Tamil Nadu&#x27;, &#x27;Tripura&#x27;,\n",
       "       &#x27;Uttar Pradesh&#x27;, &#x27;West Bengal&#x27;], dtype=object)])</pre></div></div></div></div></div></div><div class=\"sk-parallel-item\"><div class=\"sk-item\"><div class=\"sk-label-container\"><div class=\"sk-label sk-toggleable\"><input class=\"sk-toggleable__control sk-hidden--visually\" id=\"sk-estimator-id-146\" type=\"checkbox\" ><label for=\"sk-estimator-id-146\" class=\"sk-toggleable__label sk-toggleable__label-arrow\">remainder</label><div class=\"sk-toggleable__content\"><pre>[]</pre></div></div></div><div class=\"sk-serial\"><div class=\"sk-item\"><div class=\"sk-estimator sk-toggleable\"><input class=\"sk-toggleable__control sk-hidden--visually\" id=\"sk-estimator-id-147\" type=\"checkbox\" ><label for=\"sk-estimator-id-147\" class=\"sk-toggleable__label sk-toggleable__label-arrow\">passthrough</label><div class=\"sk-toggleable__content\"><pre>passthrough</pre></div></div></div></div></div></div></div></div><div class=\"sk-item\"><div class=\"sk-estimator sk-toggleable\"><input class=\"sk-toggleable__control sk-hidden--visually\" id=\"sk-estimator-id-148\" type=\"checkbox\" ><label for=\"sk-estimator-id-148\" class=\"sk-toggleable__label sk-toggleable__label-arrow\">DecisionTreeRegressor</label><div class=\"sk-toggleable__content\"><pre>DecisionTreeRegressor(max_depth=40)</pre></div></div></div></div></div></div></div>"
      ],
      "text/plain": [
       "Pipeline(steps=[('columntransformer',\n",
       "                 ColumnTransformer(remainder='passthrough',\n",
       "                                   transformers=[('num', MinMaxScaler(),\n",
       "                                                  ['Kms_driven', 'Year']),\n",
       "                                                 ('cat',\n",
       "                                                  OneHotEncoder(categories=[array(['Audi Q3', 'Audi Q5 2.0', 'Audi Q7 3.0', 'Audi Q7 35',\n",
       "       'BMW 3 Series', 'BMW 5 Series', 'BMW X5 xDrive30d',\n",
       "       'Chevrolet Aveo', 'Chevrolet Beat', 'Chevrolet Beat LS',\n",
       "       'Chevrolet Beat LT', 'Chevrolet Cruze LT...\n",
       "       'Ssangyong', 'Tata', 'Toyota', 'Volkswagen', 'Volvo'], dtype=object),\n",
       "                                                                            array(['Andhra Pradesh', 'Bihar', 'Chhattisgarh', 'Gujarat', 'Haryana',\n",
       "       'Jharkhand', 'Karnataka', 'Kerala', 'Maharashtra', 'NCT of Delhi',\n",
       "       'Odisha', 'Puducherry', 'Rajasthan', 'Tamil Nadu', 'Tripura',\n",
       "       'Uttar Pradesh', 'West Bengal'], dtype=object)]),\n",
       "                                                  ['Name', 'Fuel_type',\n",
       "                                                   'Company', 'State'])])),\n",
       "                ('decisiontreeregressor', DecisionTreeRegressor(max_depth=40))])"
      ]
     },
     "execution_count": 303,
     "metadata": {},
     "output_type": "execute_result"
    }
   ],
   "source": [
    "pipe2.fit(X_train,y_train)"
   ]
  },
  {
   "cell_type": "code",
   "execution_count": 333,
   "id": "6c00b486",
   "metadata": {},
   "outputs": [],
   "source": [
    "y_pred = pipe2.predict(X_test)"
   ]
  },
  {
   "cell_type": "code",
   "execution_count": 334,
   "id": "d5d91764",
   "metadata": {},
   "outputs": [
    {
     "name": "stdout",
     "output_type": "stream",
     "text": [
      "R2 score : 0.23040458956366738\n"
     ]
    }
   ],
   "source": [
    "print(\"R2 score :\" ,r2_score(y_pred , y_test))\n",
    "\n"
   ]
  },
  {
   "cell_type": "code",
   "execution_count": 306,
   "id": "249121d1",
   "metadata": {},
   "outputs": [],
   "source": [
    "r2_Dt=[]\n",
    "for i in range(1000):\n",
    "    X_train, X_test, y_train, y_test = train_test_split(X, y, test_size=0.2 , random_state=i)\n",
    "    pipe2.fit(X_train,y_train)\n",
    "    y_pred = pipe2.predict(X_test)\n",
    "    r2_Dt.append(r2_score(y_pred , y_test))\n",
    "    #print(\"R2 score :\" ,r2_score(y_pred , y_test))"
   ]
  },
  {
   "cell_type": "code",
   "execution_count": 308,
   "id": "493fb1eb",
   "metadata": {},
   "outputs": [
    {
     "data": {
      "text/plain": [
       "0.8302323463030079"
      ]
     },
     "execution_count": 308,
     "metadata": {},
     "output_type": "execute_result"
    }
   ],
   "source": [
    "max(r2_Dt)"
   ]
  },
  {
   "cell_type": "code",
   "execution_count": 309,
   "id": "82ca6ac7",
   "metadata": {},
   "outputs": [
    {
     "data": {
      "text/plain": [
       "{'ccp_alpha': 0.0,\n",
       " 'criterion': 'squared_error',\n",
       " 'max_depth': 40,\n",
       " 'max_features': None,\n",
       " 'max_leaf_nodes': None,\n",
       " 'min_impurity_decrease': 0.0,\n",
       " 'min_samples_leaf': 1,\n",
       " 'min_samples_split': 2,\n",
       " 'min_weight_fraction_leaf': 0.0,\n",
       " 'random_state': None,\n",
       " 'splitter': 'best'}"
      ]
     },
     "execution_count": 309,
     "metadata": {},
     "output_type": "execute_result"
    }
   ],
   "source": [
    "model2.get_params()"
   ]
  },
  {
   "cell_type": "code",
   "execution_count": 310,
   "id": "13d22659",
   "metadata": {},
   "outputs": [
    {
     "data": {
      "text/plain": [
       "-4.121292657489859"
      ]
     },
     "execution_count": 310,
     "metadata": {},
     "output_type": "execute_result"
    }
   ],
   "source": [
    "min(r2_Dt)"
   ]
  },
  {
   "cell_type": "markdown",
   "id": "88481904",
   "metadata": {},
   "source": [
    "### Model 3 : Random Forest Regressor"
   ]
  },
  {
   "cell_type": "code",
   "execution_count": 312,
   "id": "1a1372f4",
   "metadata": {},
   "outputs": [],
   "source": [
    "from sklearn.ensemble import RandomForestRegressor\n",
    "model3 = RandomForestRegressor(n_estimators = 100, max_features = 'sqrt')"
   ]
  },
  {
   "cell_type": "code",
   "execution_count": 313,
   "id": "aa45d3f5",
   "metadata": {},
   "outputs": [
    {
     "data": {
      "text/html": [
       "<style>#sk-container-id-27 {color: black;background-color: white;}#sk-container-id-27 pre{padding: 0;}#sk-container-id-27 div.sk-toggleable {background-color: white;}#sk-container-id-27 label.sk-toggleable__label {cursor: pointer;display: block;width: 100%;margin-bottom: 0;padding: 0.3em;box-sizing: border-box;text-align: center;}#sk-container-id-27 label.sk-toggleable__label-arrow:before {content: \"▸\";float: left;margin-right: 0.25em;color: #696969;}#sk-container-id-27 label.sk-toggleable__label-arrow:hover:before {color: black;}#sk-container-id-27 div.sk-estimator:hover label.sk-toggleable__label-arrow:before {color: black;}#sk-container-id-27 div.sk-toggleable__content {max-height: 0;max-width: 0;overflow: hidden;text-align: left;background-color: #f0f8ff;}#sk-container-id-27 div.sk-toggleable__content pre {margin: 0.2em;color: black;border-radius: 0.25em;background-color: #f0f8ff;}#sk-container-id-27 input.sk-toggleable__control:checked~div.sk-toggleable__content {max-height: 200px;max-width: 100%;overflow: auto;}#sk-container-id-27 input.sk-toggleable__control:checked~label.sk-toggleable__label-arrow:before {content: \"▾\";}#sk-container-id-27 div.sk-estimator input.sk-toggleable__control:checked~label.sk-toggleable__label {background-color: #d4ebff;}#sk-container-id-27 div.sk-label input.sk-toggleable__control:checked~label.sk-toggleable__label {background-color: #d4ebff;}#sk-container-id-27 input.sk-hidden--visually {border: 0;clip: rect(1px 1px 1px 1px);clip: rect(1px, 1px, 1px, 1px);height: 1px;margin: -1px;overflow: hidden;padding: 0;position: absolute;width: 1px;}#sk-container-id-27 div.sk-estimator {font-family: monospace;background-color: #f0f8ff;border: 1px dotted black;border-radius: 0.25em;box-sizing: border-box;margin-bottom: 0.5em;}#sk-container-id-27 div.sk-estimator:hover {background-color: #d4ebff;}#sk-container-id-27 div.sk-parallel-item::after {content: \"\";width: 100%;border-bottom: 1px solid gray;flex-grow: 1;}#sk-container-id-27 div.sk-label:hover label.sk-toggleable__label {background-color: #d4ebff;}#sk-container-id-27 div.sk-serial::before {content: \"\";position: absolute;border-left: 1px solid gray;box-sizing: border-box;top: 0;bottom: 0;left: 50%;z-index: 0;}#sk-container-id-27 div.sk-serial {display: flex;flex-direction: column;align-items: center;background-color: white;padding-right: 0.2em;padding-left: 0.2em;position: relative;}#sk-container-id-27 div.sk-item {position: relative;z-index: 1;}#sk-container-id-27 div.sk-parallel {display: flex;align-items: stretch;justify-content: center;background-color: white;position: relative;}#sk-container-id-27 div.sk-item::before, #sk-container-id-27 div.sk-parallel-item::before {content: \"\";position: absolute;border-left: 1px solid gray;box-sizing: border-box;top: 0;bottom: 0;left: 50%;z-index: -1;}#sk-container-id-27 div.sk-parallel-item {display: flex;flex-direction: column;z-index: 1;position: relative;background-color: white;}#sk-container-id-27 div.sk-parallel-item:first-child::after {align-self: flex-end;width: 50%;}#sk-container-id-27 div.sk-parallel-item:last-child::after {align-self: flex-start;width: 50%;}#sk-container-id-27 div.sk-parallel-item:only-child::after {width: 0;}#sk-container-id-27 div.sk-dashed-wrapped {border: 1px dashed gray;margin: 0 0.4em 0.5em 0.4em;box-sizing: border-box;padding-bottom: 0.4em;background-color: white;}#sk-container-id-27 div.sk-label label {font-family: monospace;font-weight: bold;display: inline-block;line-height: 1.2em;}#sk-container-id-27 div.sk-label-container {text-align: center;}#sk-container-id-27 div.sk-container {/* jupyter's `normalize.less` sets `[hidden] { display: none; }` but bootstrap.min.css set `[hidden] { display: none !important; }` so we also need the `!important` here to be able to override the default hidden behavior on the sphinx rendered scikit-learn.org. See: https://github.com/scikit-learn/scikit-learn/issues/21755 */display: inline-block !important;position: relative;}#sk-container-id-27 div.sk-text-repr-fallback {display: none;}</style><div id=\"sk-container-id-27\" class=\"sk-top-container\"><div class=\"sk-text-repr-fallback\"><pre>Pipeline(steps=[(&#x27;columntransformer&#x27;,\n",
       "                 ColumnTransformer(remainder=&#x27;passthrough&#x27;,\n",
       "                                   transformers=[(&#x27;num&#x27;, MinMaxScaler(),\n",
       "                                                  [&#x27;Kms_driven&#x27;, &#x27;Year&#x27;]),\n",
       "                                                 (&#x27;cat&#x27;,\n",
       "                                                  OneHotEncoder(categories=[array([&#x27;Audi Q3&#x27;, &#x27;Audi Q5 2.0&#x27;, &#x27;Audi Q7 3.0&#x27;, &#x27;Audi Q7 35&#x27;,\n",
       "       &#x27;BMW 3 Series&#x27;, &#x27;BMW 5 Series&#x27;, &#x27;BMW X5 xDrive30d&#x27;,\n",
       "       &#x27;Chevrolet Aveo&#x27;, &#x27;Chevrolet Beat&#x27;, &#x27;Chevrolet Beat LS&#x27;,\n",
       "       &#x27;Chevrolet Beat LT&#x27;, &#x27;Chevrolet Cruze LT...\n",
       "       &#x27;Ssangyong&#x27;, &#x27;Tata&#x27;, &#x27;Toyota&#x27;, &#x27;Volkswagen&#x27;, &#x27;Volvo&#x27;], dtype=object),\n",
       "                                                                            array([&#x27;Andhra Pradesh&#x27;, &#x27;Bihar&#x27;, &#x27;Chhattisgarh&#x27;, &#x27;Gujarat&#x27;, &#x27;Haryana&#x27;,\n",
       "       &#x27;Jharkhand&#x27;, &#x27;Karnataka&#x27;, &#x27;Kerala&#x27;, &#x27;Maharashtra&#x27;, &#x27;NCT of Delhi&#x27;,\n",
       "       &#x27;Odisha&#x27;, &#x27;Puducherry&#x27;, &#x27;Rajasthan&#x27;, &#x27;Tamil Nadu&#x27;, &#x27;Tripura&#x27;,\n",
       "       &#x27;Uttar Pradesh&#x27;, &#x27;West Bengal&#x27;], dtype=object)]),\n",
       "                                                  [&#x27;Name&#x27;, &#x27;Fuel_type&#x27;,\n",
       "                                                   &#x27;Company&#x27;, &#x27;State&#x27;])])),\n",
       "                (&#x27;randomforestregressor&#x27;,\n",
       "                 RandomForestRegressor(max_features=&#x27;sqrt&#x27;))])</pre><b>In a Jupyter environment, please rerun this cell to show the HTML representation or trust the notebook. <br />On GitHub, the HTML representation is unable to render, please try loading this page with nbviewer.org.</b></div><div class=\"sk-container\" hidden><div class=\"sk-item sk-dashed-wrapped\"><div class=\"sk-label-container\"><div class=\"sk-label sk-toggleable\"><input class=\"sk-toggleable__control sk-hidden--visually\" id=\"sk-estimator-id-149\" type=\"checkbox\" ><label for=\"sk-estimator-id-149\" class=\"sk-toggleable__label sk-toggleable__label-arrow\">Pipeline</label><div class=\"sk-toggleable__content\"><pre>Pipeline(steps=[(&#x27;columntransformer&#x27;,\n",
       "                 ColumnTransformer(remainder=&#x27;passthrough&#x27;,\n",
       "                                   transformers=[(&#x27;num&#x27;, MinMaxScaler(),\n",
       "                                                  [&#x27;Kms_driven&#x27;, &#x27;Year&#x27;]),\n",
       "                                                 (&#x27;cat&#x27;,\n",
       "                                                  OneHotEncoder(categories=[array([&#x27;Audi Q3&#x27;, &#x27;Audi Q5 2.0&#x27;, &#x27;Audi Q7 3.0&#x27;, &#x27;Audi Q7 35&#x27;,\n",
       "       &#x27;BMW 3 Series&#x27;, &#x27;BMW 5 Series&#x27;, &#x27;BMW X5 xDrive30d&#x27;,\n",
       "       &#x27;Chevrolet Aveo&#x27;, &#x27;Chevrolet Beat&#x27;, &#x27;Chevrolet Beat LS&#x27;,\n",
       "       &#x27;Chevrolet Beat LT&#x27;, &#x27;Chevrolet Cruze LT...\n",
       "       &#x27;Ssangyong&#x27;, &#x27;Tata&#x27;, &#x27;Toyota&#x27;, &#x27;Volkswagen&#x27;, &#x27;Volvo&#x27;], dtype=object),\n",
       "                                                                            array([&#x27;Andhra Pradesh&#x27;, &#x27;Bihar&#x27;, &#x27;Chhattisgarh&#x27;, &#x27;Gujarat&#x27;, &#x27;Haryana&#x27;,\n",
       "       &#x27;Jharkhand&#x27;, &#x27;Karnataka&#x27;, &#x27;Kerala&#x27;, &#x27;Maharashtra&#x27;, &#x27;NCT of Delhi&#x27;,\n",
       "       &#x27;Odisha&#x27;, &#x27;Puducherry&#x27;, &#x27;Rajasthan&#x27;, &#x27;Tamil Nadu&#x27;, &#x27;Tripura&#x27;,\n",
       "       &#x27;Uttar Pradesh&#x27;, &#x27;West Bengal&#x27;], dtype=object)]),\n",
       "                                                  [&#x27;Name&#x27;, &#x27;Fuel_type&#x27;,\n",
       "                                                   &#x27;Company&#x27;, &#x27;State&#x27;])])),\n",
       "                (&#x27;randomforestregressor&#x27;,\n",
       "                 RandomForestRegressor(max_features=&#x27;sqrt&#x27;))])</pre></div></div></div><div class=\"sk-serial\"><div class=\"sk-item sk-dashed-wrapped\"><div class=\"sk-label-container\"><div class=\"sk-label sk-toggleable\"><input class=\"sk-toggleable__control sk-hidden--visually\" id=\"sk-estimator-id-150\" type=\"checkbox\" ><label for=\"sk-estimator-id-150\" class=\"sk-toggleable__label sk-toggleable__label-arrow\">columntransformer: ColumnTransformer</label><div class=\"sk-toggleable__content\"><pre>ColumnTransformer(remainder=&#x27;passthrough&#x27;,\n",
       "                  transformers=[(&#x27;num&#x27;, MinMaxScaler(), [&#x27;Kms_driven&#x27;, &#x27;Year&#x27;]),\n",
       "                                (&#x27;cat&#x27;,\n",
       "                                 OneHotEncoder(categories=[array([&#x27;Audi Q3&#x27;, &#x27;Audi Q5 2.0&#x27;, &#x27;Audi Q7 3.0&#x27;, &#x27;Audi Q7 35&#x27;,\n",
       "       &#x27;BMW 3 Series&#x27;, &#x27;BMW 5 Series&#x27;, &#x27;BMW X5 xDrive30d&#x27;,\n",
       "       &#x27;Chevrolet Aveo&#x27;, &#x27;Chevrolet Beat&#x27;, &#x27;Chevrolet Beat LS&#x27;,\n",
       "       &#x27;Chevrolet Beat LT&#x27;, &#x27;Chevrolet Cruze LTZ&#x27;, &#x27;Chevrolet Optra&#x27;,\n",
       "       &#x27;Chevrolet Sail 1.2...\n",
       "       &#x27;Maruti&#x27;, &#x27;Mercedes&#x27;, &#x27;Nissan&#x27;, &#x27;Porsche&#x27;, &#x27;Renault&#x27;, &#x27;Skoda&#x27;,\n",
       "       &#x27;Ssangyong&#x27;, &#x27;Tata&#x27;, &#x27;Toyota&#x27;, &#x27;Volkswagen&#x27;, &#x27;Volvo&#x27;], dtype=object),\n",
       "                                                           array([&#x27;Andhra Pradesh&#x27;, &#x27;Bihar&#x27;, &#x27;Chhattisgarh&#x27;, &#x27;Gujarat&#x27;, &#x27;Haryana&#x27;,\n",
       "       &#x27;Jharkhand&#x27;, &#x27;Karnataka&#x27;, &#x27;Kerala&#x27;, &#x27;Maharashtra&#x27;, &#x27;NCT of Delhi&#x27;,\n",
       "       &#x27;Odisha&#x27;, &#x27;Puducherry&#x27;, &#x27;Rajasthan&#x27;, &#x27;Tamil Nadu&#x27;, &#x27;Tripura&#x27;,\n",
       "       &#x27;Uttar Pradesh&#x27;, &#x27;West Bengal&#x27;], dtype=object)]),\n",
       "                                 [&#x27;Name&#x27;, &#x27;Fuel_type&#x27;, &#x27;Company&#x27;, &#x27;State&#x27;])])</pre></div></div></div><div class=\"sk-parallel\"><div class=\"sk-parallel-item\"><div class=\"sk-item\"><div class=\"sk-label-container\"><div class=\"sk-label sk-toggleable\"><input class=\"sk-toggleable__control sk-hidden--visually\" id=\"sk-estimator-id-151\" type=\"checkbox\" ><label for=\"sk-estimator-id-151\" class=\"sk-toggleable__label sk-toggleable__label-arrow\">num</label><div class=\"sk-toggleable__content\"><pre>[&#x27;Kms_driven&#x27;, &#x27;Year&#x27;]</pre></div></div></div><div class=\"sk-serial\"><div class=\"sk-item\"><div class=\"sk-estimator sk-toggleable\"><input class=\"sk-toggleable__control sk-hidden--visually\" id=\"sk-estimator-id-152\" type=\"checkbox\" ><label for=\"sk-estimator-id-152\" class=\"sk-toggleable__label sk-toggleable__label-arrow\">MinMaxScaler</label><div class=\"sk-toggleable__content\"><pre>MinMaxScaler()</pre></div></div></div></div></div></div><div class=\"sk-parallel-item\"><div class=\"sk-item\"><div class=\"sk-label-container\"><div class=\"sk-label sk-toggleable\"><input class=\"sk-toggleable__control sk-hidden--visually\" id=\"sk-estimator-id-153\" type=\"checkbox\" ><label for=\"sk-estimator-id-153\" class=\"sk-toggleable__label sk-toggleable__label-arrow\">cat</label><div class=\"sk-toggleable__content\"><pre>[&#x27;Name&#x27;, &#x27;Fuel_type&#x27;, &#x27;Company&#x27;, &#x27;State&#x27;]</pre></div></div></div><div class=\"sk-serial\"><div class=\"sk-item\"><div class=\"sk-estimator sk-toggleable\"><input class=\"sk-toggleable__control sk-hidden--visually\" id=\"sk-estimator-id-154\" type=\"checkbox\" ><label for=\"sk-estimator-id-154\" class=\"sk-toggleable__label sk-toggleable__label-arrow\">OneHotEncoder</label><div class=\"sk-toggleable__content\"><pre>OneHotEncoder(categories=[array([&#x27;Audi Q3&#x27;, &#x27;Audi Q5 2.0&#x27;, &#x27;Audi Q7 3.0&#x27;, &#x27;Audi Q7 35&#x27;,\n",
       "       &#x27;BMW 3 Series&#x27;, &#x27;BMW 5 Series&#x27;, &#x27;BMW X5 xDrive30d&#x27;,\n",
       "       &#x27;Chevrolet Aveo&#x27;, &#x27;Chevrolet Beat&#x27;, &#x27;Chevrolet Beat LS&#x27;,\n",
       "       &#x27;Chevrolet Beat LT&#x27;, &#x27;Chevrolet Cruze LTZ&#x27;, &#x27;Chevrolet Optra&#x27;,\n",
       "       &#x27;Chevrolet Sail 1.2&#x27;, &#x27;Chevrolet Spark&#x27;, &#x27;Datsun GO T&#x27;,\n",
       "       &#x27;Datsun Redi GO&#x27;, &#x27;Fiat Linea Dynamic&#x27;, &#x27;Fiat Linea Emotion&#x27;,\n",
       "       &#x27;Fiat Punto Emotion&#x27;, &#x27;Ford...\n",
       "       &#x27;Hyundai&#x27;, &#x27;Jaguar&#x27;, &#x27;Jeep&#x27;, &#x27;Kia&#x27;, &#x27;Land&#x27;, &#x27;MG&#x27;, &#x27;Mahindra&#x27;,\n",
       "       &#x27;Maruti&#x27;, &#x27;Mercedes&#x27;, &#x27;Nissan&#x27;, &#x27;Porsche&#x27;, &#x27;Renault&#x27;, &#x27;Skoda&#x27;,\n",
       "       &#x27;Ssangyong&#x27;, &#x27;Tata&#x27;, &#x27;Toyota&#x27;, &#x27;Volkswagen&#x27;, &#x27;Volvo&#x27;], dtype=object),\n",
       "                          array([&#x27;Andhra Pradesh&#x27;, &#x27;Bihar&#x27;, &#x27;Chhattisgarh&#x27;, &#x27;Gujarat&#x27;, &#x27;Haryana&#x27;,\n",
       "       &#x27;Jharkhand&#x27;, &#x27;Karnataka&#x27;, &#x27;Kerala&#x27;, &#x27;Maharashtra&#x27;, &#x27;NCT of Delhi&#x27;,\n",
       "       &#x27;Odisha&#x27;, &#x27;Puducherry&#x27;, &#x27;Rajasthan&#x27;, &#x27;Tamil Nadu&#x27;, &#x27;Tripura&#x27;,\n",
       "       &#x27;Uttar Pradesh&#x27;, &#x27;West Bengal&#x27;], dtype=object)])</pre></div></div></div></div></div></div><div class=\"sk-parallel-item\"><div class=\"sk-item\"><div class=\"sk-label-container\"><div class=\"sk-label sk-toggleable\"><input class=\"sk-toggleable__control sk-hidden--visually\" id=\"sk-estimator-id-155\" type=\"checkbox\" ><label for=\"sk-estimator-id-155\" class=\"sk-toggleable__label sk-toggleable__label-arrow\">remainder</label><div class=\"sk-toggleable__content\"><pre>[]</pre></div></div></div><div class=\"sk-serial\"><div class=\"sk-item\"><div class=\"sk-estimator sk-toggleable\"><input class=\"sk-toggleable__control sk-hidden--visually\" id=\"sk-estimator-id-156\" type=\"checkbox\" ><label for=\"sk-estimator-id-156\" class=\"sk-toggleable__label sk-toggleable__label-arrow\">passthrough</label><div class=\"sk-toggleable__content\"><pre>passthrough</pre></div></div></div></div></div></div></div></div><div class=\"sk-item\"><div class=\"sk-estimator sk-toggleable\"><input class=\"sk-toggleable__control sk-hidden--visually\" id=\"sk-estimator-id-157\" type=\"checkbox\" ><label for=\"sk-estimator-id-157\" class=\"sk-toggleable__label sk-toggleable__label-arrow\">RandomForestRegressor</label><div class=\"sk-toggleable__content\"><pre>RandomForestRegressor(max_features=&#x27;sqrt&#x27;)</pre></div></div></div></div></div></div></div>"
      ],
      "text/plain": [
       "Pipeline(steps=[('columntransformer',\n",
       "                 ColumnTransformer(remainder='passthrough',\n",
       "                                   transformers=[('num', MinMaxScaler(),\n",
       "                                                  ['Kms_driven', 'Year']),\n",
       "                                                 ('cat',\n",
       "                                                  OneHotEncoder(categories=[array(['Audi Q3', 'Audi Q5 2.0', 'Audi Q7 3.0', 'Audi Q7 35',\n",
       "       'BMW 3 Series', 'BMW 5 Series', 'BMW X5 xDrive30d',\n",
       "       'Chevrolet Aveo', 'Chevrolet Beat', 'Chevrolet Beat LS',\n",
       "       'Chevrolet Beat LT', 'Chevrolet Cruze LT...\n",
       "       'Ssangyong', 'Tata', 'Toyota', 'Volkswagen', 'Volvo'], dtype=object),\n",
       "                                                                            array(['Andhra Pradesh', 'Bihar', 'Chhattisgarh', 'Gujarat', 'Haryana',\n",
       "       'Jharkhand', 'Karnataka', 'Kerala', 'Maharashtra', 'NCT of Delhi',\n",
       "       'Odisha', 'Puducherry', 'Rajasthan', 'Tamil Nadu', 'Tripura',\n",
       "       'Uttar Pradesh', 'West Bengal'], dtype=object)]),\n",
       "                                                  ['Name', 'Fuel_type',\n",
       "                                                   'Company', 'State'])])),\n",
       "                ('randomforestregressor',\n",
       "                 RandomForestRegressor(max_features='sqrt'))])"
      ]
     },
     "execution_count": 313,
     "metadata": {},
     "output_type": "execute_result"
    }
   ],
   "source": [
    "pipe3=make_pipeline(column_trans,model3)\n",
    "pipe3.fit(X_train,y_train)"
   ]
  },
  {
   "cell_type": "code",
   "execution_count": 335,
   "id": "8008a067",
   "metadata": {},
   "outputs": [
    {
     "name": "stdout",
     "output_type": "stream",
     "text": [
      "R2 score : -0.22168224785471757\n"
     ]
    }
   ],
   "source": [
    "y_pred = pipe3.predict(X_test)\n",
    "print(\"R2 score :\" ,r2_score(y_pred , y_test))\n"
   ]
  },
  {
   "cell_type": "code",
   "execution_count": 337,
   "id": "9b5a4df8",
   "metadata": {},
   "outputs": [],
   "source": [
    "r2_rf=[]\n",
    "for i in range(10):\n",
    "    X_train, X_test, y_train, y_test = train_test_split(X, y, test_size=0.2 , random_state=i)\n",
    "    pipe3.fit(X_train,y_train)\n",
    "    y_pred = pipe3.predict(X_test)\n",
    "    r2_rf.append(r2_score(y_pred , y_test))\n",
    "    #print(\"R2 score :\" ,r2_score(y_pred , y_test))"
   ]
  },
  {
   "cell_type": "code",
   "execution_count": 338,
   "id": "3abaa218",
   "metadata": {},
   "outputs": [
    {
     "data": {
      "text/plain": [
       "0.6928302386782054"
      ]
     },
     "execution_count": 338,
     "metadata": {},
     "output_type": "execute_result"
    }
   ],
   "source": [
    "max(r2_rf)"
   ]
  },
  {
   "cell_type": "markdown",
   "id": "ab1ef8a6",
   "metadata": {},
   "source": [
    "### Final Model PipeLine"
   ]
  },
  {
   "cell_type": "code",
   "execution_count": 360,
   "id": "a782aa96",
   "metadata": {},
   "outputs": [],
   "source": [
    "pipe_final=make_pipeline(column_trans,model1)"
   ]
  },
  {
   "cell_type": "code",
   "execution_count": 361,
   "id": "29bdd78b",
   "metadata": {},
   "outputs": [],
   "source": [
    "X_train, X_test, y_train, y_test = train_test_split(X, y, test_size=0.2 , random_state=1071)\n",
    "pipe_final.fit(X_train,y_train)\n",
    "y_pred = pipe_final.predict(X_test)\n",
    "   "
   ]
  },
  {
   "cell_type": "code",
   "execution_count": 363,
   "id": "c3a3fe29",
   "metadata": {},
   "outputs": [
    {
     "name": "stdout",
     "output_type": "stream",
     "text": [
      "Final Model Accuracy 0.85962510233633\n"
     ]
    }
   ],
   "source": [
    "print (\"Final Model Accuracy\", r2_score(y_pred , y_test)) "
   ]
  },
  {
   "cell_type": "markdown",
   "id": "e2b42c28",
   "metadata": {},
   "source": [
    "## Files for Deployment"
   ]
  },
  {
   "cell_type": "code",
   "execution_count": 388,
   "id": "d563d6e7",
   "metadata": {},
   "outputs": [
    {
     "data": {
      "text/plain": [
       "array([2015, 2016, 2018, 2019, 2017, 2013, 2012, 2020, 2014, 2011, 2021,\n",
       "       2010, 2001, 2022, 2000, 2008, 2005, 2007, 2006, 2004, 2002, 2009,\n",
       "       2003], dtype=int64)"
      ]
     },
     "execution_count": 388,
     "metadata": {},
     "output_type": "execute_result"
    }
   ],
   "source": [
    "X[\"Year\"].unique()"
   ]
  },
  {
   "cell_type": "code",
   "execution_count": 377,
   "id": "204d1361",
   "metadata": {},
   "outputs": [
    {
     "data": {
      "text/plain": [
       "0     380000\n",
       "1     465000\n",
       "2    1350000\n",
       "3    1019699\n",
       "4     713499\n",
       "Name: Price, dtype: int64"
      ]
     },
     "execution_count": 377,
     "metadata": {},
     "output_type": "execute_result"
    }
   ],
   "source": [
    "y.head()"
   ]
  },
  {
   "cell_type": "code",
   "execution_count": 382,
   "id": "b480ee26",
   "metadata": {},
   "outputs": [],
   "source": [
    "company = X[\"Company\"].unique().tolist()\n",
    "fuel_type = X[\"Fuel_type\"].unique().tolist()\n",
    "state = X[\"State\"].unique().tolist()"
   ]
  },
  {
   "cell_type": "code",
   "execution_count": 371,
   "id": "32c2b256",
   "metadata": {},
   "outputs": [],
   "source": [
    "def name(a):\n",
    "    name_list = df[df[\"Company\"] == \"a\"].Name.tolist()\n",
    "    return name_list"
   ]
  },
  {
   "cell_type": "markdown",
   "id": "91aa8bc1",
   "metadata": {},
   "source": [
    "**Saving Model In Pickle**"
   ]
  },
  {
   "cell_type": "code",
   "execution_count": 372,
   "id": "a0a5fc8b",
   "metadata": {},
   "outputs": [],
   "source": [
    "import pickle\n",
    "pickle.dump(pipe_final,open('LinearRegressionModel.pkl','wb'))"
   ]
  },
  {
   "cell_type": "code",
   "execution_count": 378,
   "id": "61dad38f",
   "metadata": {
    "scrolled": false
   },
   "outputs": [
    {
     "data": {
      "text/plain": [
       "array([961086.20526082])"
      ]
     },
     "execution_count": 378,
     "metadata": {},
     "output_type": "execute_result"
    }
   ],
   "source": [
    "pipe_final.predict(pd.DataFrame(columns=['Name','Company','Year','Kms_driven','Fuel_type',\"State\"],data=np.array(['Hyundai Venue','Elite i20 Petrol',2010,16112,'Petrol',\"Tamil Nadu\"]).reshape(1,6)))"
   ]
  },
  {
   "cell_type": "markdown",
   "id": "b860b502",
   "metadata": {},
   "source": [
    "**Saving File Prepocessed File**"
   ]
  },
  {
   "cell_type": "code",
   "execution_count": 379,
   "id": "2fc0036f",
   "metadata": {},
   "outputs": [],
   "source": [
    "pickle.dump(X,open('preprocessX.pkl','wb'))"
   ]
  },
  {
   "cell_type": "code",
   "execution_count": 400,
   "id": "a6eed04e",
   "metadata": {},
   "outputs": [],
   "source": [
    "year = sorted(X[\"Year\"].unique().tolist())"
   ]
  }
 ],
 "metadata": {
  "kernelspec": {
   "display_name": "Python 3 (ipykernel)",
   "language": "python",
   "name": "python3"
  },
  "language_info": {
   "codemirror_mode": {
    "name": "ipython",
    "version": 3
   },
   "file_extension": ".py",
   "mimetype": "text/x-python",
   "name": "python",
   "nbconvert_exporter": "python",
   "pygments_lexer": "ipython3",
   "version": "3.10.2"
  },
  "vscode": {
   "interpreter": {
    "hash": "76d7c06053c3456e5600312cec90888656fc0ed30c03d8425b9dac6e4fc8e014"
   }
  }
 },
 "nbformat": 4,
 "nbformat_minor": 5
}
